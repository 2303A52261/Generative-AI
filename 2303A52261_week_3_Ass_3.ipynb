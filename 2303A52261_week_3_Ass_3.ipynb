{
  "nbformat": 4,
  "nbformat_minor": 0,
  "metadata": {
    "colab": {
      "provenance": [],
      "authorship_tag": "ABX9TyPFjdwT4SI7vbsUW70A+yj3",
      "include_colab_link": true
    },
    "kernelspec": {
      "name": "python3",
      "display_name": "Python 3"
    },
    "language_info": {
      "name": "python"
    }
  },
  "cells": [
    {
      "cell_type": "markdown",
      "metadata": {
        "id": "view-in-github",
        "colab_type": "text"
      },
      "source": [
        "<a href=\"https://colab.research.google.com/github/2303A52261/Generative-AI/blob/main/2303A52261_week_3_Ass_3.ipynb\" target=\"_parent\"><img src=\"https://colab.research.google.com/assets/colab-badge.svg\" alt=\"Open In Colab\"/></a>"
      ]
    },
    {
      "cell_type": "markdown",
      "source": [
        "1. (1 ponto) Write Python code without using any libraries to find the value of x at which the\n",
        "function f(x) shown in equation (1) has minimum value. Consider Gradient Descent Algorithm."
      ],
      "metadata": {
        "id": "2VUfbtoyJLjl"
      }
    },
    {
      "cell_type": "code",
      "source": [
        "# Task 1: Find the value of x at which f(x) = 5x^4 + 3x^2 + 10 has minimum value\n",
        "\n",
        "def gradient_descent_1d(alpha=0.01, epsilon=1e-6, max_iter=10000):\n",
        "    def f_prime(x):\n",
        "        return 20 * x**3 + 6 * x  # Derivative of f(x)\n",
        "\n",
        "    x = 0.0  # Initial guess\n",
        "    for _ in range(max_iter):\n",
        "        grad = f_prime(x)\n",
        "        if abs(grad) < epsilon:\n",
        "            break\n",
        "        x -= alpha * grad\n",
        "    return x\n",
        "\n",
        "x_min = gradient_descent_1d()\n",
        "print(f\"Minimum value of f(x) occurs at x = {x_min}\")\n"
      ],
      "metadata": {
        "colab": {
          "base_uri": "https://localhost:8080/"
        },
        "id": "X6MYjiaVDuaI",
        "outputId": "ca37da23-aef6-4ffc-c3af-7f4c3d6abf81"
      },
      "execution_count": null,
      "outputs": [
        {
          "output_type": "stream",
          "name": "stdout",
          "text": [
            "Minimum value of f(x) occurs at x = 0.0\n"
          ]
        }
      ]
    },
    {
      "cell_type": "markdown",
      "source": [
        "2. (1 ponto) Write Python code without using any libraries to find the value of x and y at which the\n",
        "function g(x,y) shown in equation (2) has minimum value. Consider Gradient Descent Algorithm."
      ],
      "metadata": {
        "id": "Y8bWVW8_JRvM"
      }
    },
    {
      "cell_type": "code",
      "source": [
        "# Task 2: Find the values of x and y at which g(x, y) = 3x^2 + 5e^(-y) + 10 has minimum value\n",
        "\n",
        "def gradient_descent_2d(alpha=0.01, epsilon=1e-6, max_iter=10000):\n",
        "    def f_prime_x(x):\n",
        "        return 6 * x  # Partial derivative with respect to x\n",
        "\n",
        "    def f_prime_y(y):\n",
        "        return -5 * (2.718281828459045 ** (-y))  # Partial derivative with respect to y\n",
        "\n",
        "    x, y = 0.0, 0.0  # Initial guesses\n",
        "    for _ in range(max_iter):\n",
        "        grad_x = f_prime_x(x)\n",
        "        grad_y = f_prime_y(y)\n",
        "        if abs(grad_x) < epsilon and abs(grad_y) < epsilon:\n",
        "            break\n",
        "        x -= alpha * grad_x\n",
        "        y -= alpha * grad_y\n",
        "    return x, y\n",
        "\n",
        "x_min, y_min = gradient_descent_2d()\n",
        "print(f\"Minimum value of g(x, y) occurs at x = {x_min}, y = {y_min}\")\n"
      ],
      "metadata": {
        "colab": {
          "base_uri": "https://localhost:8080/"
        },
        "id": "SsEwqSi8Efih",
        "outputId": "eb181c2f-e575-4b47-ecca-7ccf4f8029f5"
      },
      "execution_count": null,
      "outputs": [
        {
          "output_type": "stream",
          "name": "stdout",
          "text": [
            "Minimum value of g(x, y) occurs at x = 0.0, y = 6.216917124174048\n"
          ]
        }
      ]
    },
    {
      "cell_type": "markdown",
      "source": [
        "3. (1 ponto) Write Python code without using any libraries to find the value of x at which the\n",
        "sigmoid function z(x) shown in equation (3) has minimum value. Consider Gradient Descent\n",
        "Algorithm."
      ],
      "metadata": {
        "id": "x1cgtFo4Jag1"
      }
    },
    {
      "cell_type": "code",
      "source": [
        "\n",
        "# Task 3: Find the value of x at which z(x) = 1 / (1 + e^(-x)) has minimum value\n",
        "\n",
        "def gradient_descent_sigmoid(alpha=0.01, epsilon=1e-6, max_iter=10000):\n",
        "    def z_prime(x):\n",
        "        exp_neg_x = 2.718281828459045 ** (-x)\n",
        "        return -exp_neg_x / ((1 + exp_neg_x) ** 2)  # Derivative of sigmoid function\n",
        "\n",
        "    x = 0.0  # Initial guess\n",
        "    for _ in range(max_iter):\n",
        "        grad = z_prime(x)\n",
        "        if abs(grad) < epsilon:\n",
        "            break\n",
        "        x -= alpha * grad\n",
        "    return x\n",
        "\n",
        "x_min_sigmoid = gradient_descent_sigmoid()\n",
        "print(f\"Minimum value of z(x) occurs at x = {x_min_sigmoid}\")\n"
      ],
      "metadata": {
        "colab": {
          "base_uri": "https://localhost:8080/"
        },
        "id": "gbizEVTyEh4H",
        "outputId": "fb063095-0732-4935-cef2-00f66fcbb047"
      },
      "execution_count": null,
      "outputs": [
        {
          "output_type": "stream",
          "name": "stdout",
          "text": [
            "Minimum value of z(x) occurs at x = 4.510913300793877\n"
          ]
        }
      ]
    },
    {
      "cell_type": "markdown",
      "source": [
        "4. (1 ponto) Write Python code without using any libraries to find the value of optimal values of\n",
        "model parameters M and C such that the model’s Square Error Value shown in equation 4 will\n",
        "be minimum. It means model gives output close to expected output as shown in Figure 1\n",
        "![q4.png](data:image/png;base64,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)"
      ],
      "metadata": {
        "id": "WfkdCxQ4Jh8E"
      }
    },
    {
      "cell_type": "code",
      "source": [
        "# Task 4: Find the optimal values of M and C for minimizing SE = (ExpectedOutput - PredictedOutput)^2\n",
        "\n",
        "def gradient_descent_linear(alpha=0.01, epsilon=1e-6, max_iter=10000):\n",
        "    expected_outputs = [1, 2, 3, 4, 5]  # Example expected outputs\n",
        "    inputs = [1, 2, 3, 4, 5]  # Example inputs\n",
        "\n",
        "    def predicted_output(m, c, x):\n",
        "        return m * x + c\n",
        "\n",
        "    def se_grad_m(m, c):\n",
        "        return -2 * sum((e - predicted_output(m, c, x)) * x for e, x in zip(expected_outputs, inputs))\n",
        "\n",
        "    def se_grad_c(m, c):\n",
        "        return -2 * sum(e - predicted_output(m, c, x) for e, x in zip(expected_outputs, inputs))\n",
        "\n",
        "    m, c = 0.0, 0.0  # Initial guesses\n",
        "    for _ in range(max_iter):\n",
        "        grad_m = se_grad_m(m, c)\n",
        "        grad_c = se_grad_c(m, c)\n",
        "        if abs(grad_m) < epsilon and abs(grad_c) < epsilon:\n",
        "            break\n",
        "        m -= alpha * grad_m\n",
        "        c -= alpha * grad_c\n",
        "    return m, c\n",
        "\n",
        "m_opt, c_opt = gradient_descent_linear()\n",
        "print(f\"Optimal values are M = {m_opt}, C = {c_opt}\")\n"
      ],
      "metadata": {
        "colab": {
          "base_uri": "https://localhost:8080/"
        },
        "id": "C7CliY_lFEXI",
        "outputId": "18f89a87-59ee-425d-9cef-96842f1f3548"
      },
      "execution_count": null,
      "outputs": [
        {
          "output_type": "stream",
          "name": "stdout",
          "text": [
            "Optimal values are M = 0.9999998375829822, C = 5.863769691679814e-07\n"
          ]
        }
      ]
    }
  ]
}