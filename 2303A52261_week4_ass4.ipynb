{
  "nbformat": 4,
  "nbformat_minor": 0,
  "metadata": {
    "colab": {
      "provenance": [],
      "authorship_tag": "ABX9TyPYiyD1H5hAL498Z1QGUBHI",
      "include_colab_link": true
    },
    "kernelspec": {
      "name": "python3",
      "display_name": "Python 3"
    },
    "language_info": {
      "name": "python"
    }
  },
  "cells": [
    {
      "cell_type": "markdown",
      "metadata": {
        "id": "view-in-github",
        "colab_type": "text"
      },
      "source": [
        "<a href=\"https://colab.research.google.com/github/2303A52261/Generative-AI/blob/main/2303A52261_week4_ass4.ipynb\" target=\"_parent\"><img src=\"https://colab.research.google.com/assets/colab-badge.svg\" alt=\"Open In Colab\"/></a>"
      ]
    },
    {
      "cell_type": "markdown",
      "source": [
        "Question 1 design a simple ANN architecture with one input and one output layer (no hidden layer). Assume a linear activation function in the output layer. • Write Python code for a backpropagation algorithm with gradient descent optimization to update weights and bias parameters of the ANN model with training data shown in Table 1. • Calculate the mean square error with training and testing data shown in Table 2. • Write Python code that reads the input data [x1, x2, and x3] from the user. Predict the output with deployed ANN model Tabela 1: Training Data x1 x2 x3 y 0.1 0.2 0.3 0.14 0.2 0.3 0.4 0.20 0.3 0.4 0.5 0.26 0.5 0.6 0.7 0.38 0.1 0.3 0.5 0.22 0.2 0.4 0.6 0.28 0.3 0.5 0.7 0.34 0.4 0.6 0.8 0.40 0.5 0.7 0.1 0.22 Tabela 2: Test Data x1 x2 x3 y 0.6 0.7 0.8 0.44 0.7 0.8 0.9 0.50"
      ],
      "metadata": {
        "id": "1SugxiWDVl6j"
      }
    },
    {
      "cell_type": "code",
      "source": [
        "import numpy as np\n",
        "X_train = np.array([[0.1, 0.2, 0.3],\n",
        "                    [0.2, 0.3, 0.4],\n",
        "                    [0.3, 0.4, 0.5],\n",
        "                    [0.5, 0.6, 0.7],\n",
        "                    [0.1, 0.3, 0.5],\n",
        "                    [0.2, 0.4, 0.6],\n",
        "                    [0.3, 0.5, 0.7],\n",
        "                    [0.4, 0.6, 0.8],\n",
        "                    [0.5, 0.7, 0.1]])\n",
        "\n",
        "y_train = np.array([0.14, 0.20, 0.26, 0.38, 0.22, 0.28, 0.34, 0.40, 0.22])\n",
        "weights = np.random.rand(3)\n",
        "bias = np.random.rand(1)\n",
        "learning_rate = 0.1\n",
        "epochs = 1000\n",
        "for epoch in range(epochs):\n",
        "    y_pred = np.dot(X_train, weights) + bias\n",
        "    error = y_pred - y_train\n",
        "    mse = np.mean(error**2)\n",
        "    gradient_w = (2 / len(X_train)) * np.dot(X_train.T, error)\n",
        "    gradient_b = (2 / len(X_train)) * np.sum(error)\n",
        "    weights -= learning_rate * gradient_w\n",
        "    bias -= learning_rate * gradient_b\n",
        "    if epoch % 100 == 0:\n",
        "        print(f\"Epoch {epoch}, MSE: {mse}\")\n",
        "print(\"Trained weights:\", weights)\n",
        "print(\"Trained bias:\", bias)\n"
      ],
      "metadata": {
        "colab": {
          "base_uri": "https://localhost:8080/"
        },
        "id": "KK9wrLMHVmub",
        "outputId": "e0cdcfad-748b-4bdf-f250-756fee1a3c61"
      },
      "execution_count": 1,
      "outputs": [
        {
          "output_type": "stream",
          "name": "stdout",
          "text": [
            "Epoch 0, MSE: 1.0939468146616818\n",
            "Epoch 100, MSE: 0.002249323945294285\n",
            "Epoch 200, MSE: 0.0006895947840809772\n",
            "Epoch 300, MSE: 0.00033439592568688004\n",
            "Epoch 400, MSE: 0.00024714836593984704\n",
            "Epoch 500, MSE: 0.0002199824097262758\n",
            "Epoch 600, MSE: 0.0002066013852126223\n",
            "Epoch 700, MSE: 0.0001966423297149292\n",
            "Epoch 800, MSE: 0.00018776382826062163\n",
            "Epoch 900, MSE: 0.00017942356911685635\n",
            "Trained weights: [ 0.38507833 -0.06364859  0.30760613]\n",
            "Trained bias: [0.03097176]\n"
          ]
        }
      ]
    },
    {
      "cell_type": "code",
      "source": [
        "def predict(x1, x2, x3):\n",
        "    input_data = np.array([x1, x2, x3])\n",
        "    prediction = np.dot(input_data, weights) + bias\n",
        "    return prediction\n",
        "x1 = float(input(\"Enter value for x1: \"))\n",
        "x2 = float(input(\"Enter value for x2: \"))\n",
        "x3 = float(input(\"Enter value for x3: \"))\n",
        "predicted_y = predict(x1, x2, x3)\n",
        "print(f\"The predicted output y is: {predicted_y}\")"
      ],
      "metadata": {
        "colab": {
          "base_uri": "https://localhost:8080/"
        },
        "id": "1MKBNkzFVtI7",
        "outputId": "e64e88c2-0b82-4df9-e4c9-34c027dce161"
      },
      "execution_count": 2,
      "outputs": [
        {
          "output_type": "stream",
          "name": "stdout",
          "text": [
            "Enter value for x1: 0.1\n",
            "Enter value for x2: 0.2\n",
            "Enter value for x3: 0.3\n",
            "The predicted output y is: [0.14903171]\n"
          ]
        }
      ]
    },
    {
      "cell_type": "markdown",
      "source": [
        "Question 2 Design a simple ANN architecture with one input and one output layer (no hidden layer). Assume a sigmoid activation function shown in the equation 1 in the output layer. f (x) = 1 1 + e−x (1) • Write Python code for a backpropagation algorithm with gradient descent optimization to update weights and bias parameters of the ANN model with training data shown in Table Tabela 3: Training Data x1 x2 x3 y 0.1 0.2 0.3 0.5349 0.2 0.3 0.4 0.5498 0.3 0.4 0.5 0.5646 0.5 0.6 0.7 0.5939 0.1 0.3 0.5 0.5548 0.2 0.4 0.6 0.5695 0.3 0.5 0.7 0.5842 0.4 0.6 0.8 0.5987 0.5 0.7 0.1 0.5548 Tabela 4: Test Data x1 x2 x3 y 0.6 0.7 0.8 0.6083 0.7 0.8 0.9 0.6225 • Calculate the mean square error with training and testing data shown in Table 4. • Write Python code that reads the input data [x1, x2, and x3] from the user. Predict the output with deployed ANN model"
      ],
      "metadata": {
        "id": "E3SP4C8bV2Q6"
      }
    },
    {
      "cell_type": "code",
      "source": [
        "import numpy as np\n",
        "def sigmoid(x):\n",
        "    return 1 / (1 + np.exp(-x))\n",
        "def sigmoid_derivative(x):\n",
        "    return x * (1 - x)\n",
        "X_train = np.array([[0.1, 0.2, 0.3],\n",
        "                    [0.2, 0.3, 0.4],\n",
        "                    [0.3, 0.4, 0.5],\n",
        "                    [0.5, 0.6, 0.7],\n",
        "                    [0.1, 0.3, 0.5],\n",
        "                    [0.2, 0.4, 0.6],\n",
        "                    [0.3, 0.5, 0.7],\n",
        "                    [0.4, 0.6, 0.8],\n",
        "                    [0.5, 0.7, 0.1]])\n",
        "y_train = np.array([0.5349, 0.5498, 0.5646, 0.5939, 0.5548, 0.5695, 0.5842, 0.5987, 0.5548])\n",
        "weights = np.random.rand(3)\n",
        "bias = np.random.rand(1)\n",
        "learning_rate = 0.1\n",
        "epochs = 10000\n",
        "for epoch in range(epochs):\n",
        "    z = np.dot(X_train, weights) + bias\n",
        "    y_pred = sigmoid(z)\n",
        "    error = y_pred - y_train\n",
        "    mse = np.mean(error**2)\n",
        "    d_loss_d_pred = 2 * error\n",
        "    d_pred_d_z = sigmoid_derivative(y_pred)\n",
        "    d_loss_d_z = d_loss_d_pred * d_pred_d_z\n",
        "    gradient_w = np.dot(X_train.T, d_loss_d_z) / len(X_train)\n",
        "    gradient_b = np.sum(d_loss_d_z) / len(X_train)\n",
        "    weights -= learning_rate * gradient_w\n",
        "    bias -= learning_rate * gradient_b\n",
        "    if epoch % 1000 == 0:\n",
        "        print(f\"Epoch {epoch}, MSE: {mse}\")\n",
        "print(\"Trained weights:\", weights)\n",
        "print(\"Trained bias:\", bias)"
      ],
      "metadata": {
        "colab": {
          "base_uri": "https://localhost:8080/"
        },
        "id": "2RlV5ziFV7Iq",
        "outputId": "215d6c17-d5f3-47d0-dc0c-3087dd12b769"
      },
      "execution_count": 3,
      "outputs": [
        {
          "output_type": "stream",
          "name": "stdout",
          "text": [
            "Epoch 0, MSE: 0.03829749415643832\n",
            "Epoch 1000, MSE: 0.00016920510633229474\n",
            "Epoch 2000, MSE: 8.808202541475978e-05\n",
            "Epoch 3000, MSE: 5.073198293754464e-05\n",
            "Epoch 4000, MSE: 3.337700643256156e-05\n",
            "Epoch 5000, MSE: 2.516299122170179e-05\n",
            "Epoch 6000, MSE: 2.1135978642950257e-05\n",
            "Epoch 7000, MSE: 1.903289375103217e-05\n",
            "Epoch 8000, MSE: 1.7818548361117047e-05\n",
            "Epoch 9000, MSE: 1.701870260553896e-05\n",
            "Trained weights: [ 0.46298973 -0.12717605  0.31429159]\n",
            "Trained bias: [0.03319369]\n"
          ]
        }
      ]
    },
    {
      "cell_type": "code",
      "source": [
        "X_test = np.array([[0.6, 0.7, 0.8],\n",
        "                   [0.7, 0.8, 0.9]])\n",
        "y_test = np.array([0.6083, 0.6225])\n",
        "y_test_pred = sigmoid(np.dot(X_test, weights) + bias)\n",
        "mse_test = np.mean((y_test_pred - y_test) ** 2)\n",
        "print(f\"Test MSE: {mse_test}\")"
      ],
      "metadata": {
        "colab": {
          "base_uri": "https://localhost:8080/"
        },
        "id": "i5Ew0udtV9xz",
        "outputId": "fbf876a2-9f3b-438a-a63d-585ac1a14063"
      },
      "execution_count": 4,
      "outputs": [
        {
          "output_type": "stream",
          "name": "stdout",
          "text": [
            "Test MSE: 7.108699774776085e-05\n"
          ]
        }
      ]
    },
    {
      "cell_type": "code",
      "source": [
        "def predict(x1, x2, x3):\n",
        "    input_data = np.array([x1, x2, x3])\n",
        "    z = np.dot(input_data, weights) + bias\n",
        "    prediction = sigmoid(z)\n",
        "    return prediction\n",
        "x1 = float(input(\"Enter value for x1: \"))\n",
        "x2 = float(input(\"Enter value for x2: \"))\n",
        "x3 = float(input(\"Enter value for x3: \"))\n",
        "predicted_y = predict(x1, x2, x3)\n",
        "print(f\"The predicted output y is: {predicted_y}\")\n"
      ],
      "metadata": {
        "colab": {
          "base_uri": "https://localhost:8080/"
        },
        "id": "9rKCabrUV_OR",
        "outputId": "724e7c46-856e-4e4b-e39d-165ba2d9337d"
      },
      "execution_count": 5,
      "outputs": [
        {
          "output_type": "stream",
          "name": "stdout",
          "text": [
            "Enter value for x1: 0.1\n",
            "Enter value for x2: 0.2\n",
            "Enter value for x3: 0.3\n",
            "The predicted output y is: [0.53701837]\n"
          ]
        }
      ]
    }
  ]
}