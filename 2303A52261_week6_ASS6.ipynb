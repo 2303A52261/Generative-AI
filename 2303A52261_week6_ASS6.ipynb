{
  "nbformat": 4,
  "nbformat_minor": 0,
  "metadata": {
    "colab": {
      "provenance": [],
      "authorship_tag": "ABX9TyN+2M5jtfRYn4q3I1He8Jsm",
      "include_colab_link": true
    },
    "kernelspec": {
      "name": "python3",
      "display_name": "Python 3"
    },
    "language_info": {
      "name": "python"
    }
  },
  "cells": [
    {
      "cell_type": "markdown",
      "metadata": {
        "id": "view-in-github",
        "colab_type": "text"
      },
      "source": [
        "<a href=\"https://colab.research.google.com/github/2303A52261/Generative-AI/blob/main/2303A52261_week6_ASS6.ipynb\" target=\"_parent\"><img src=\"https://colab.research.google.com/assets/colab-badge.svg\" alt=\"Open In Colab\"/></a>"
      ]
    },
    {
      "cell_type": "markdown",
      "source": [
        "1. (1 ponto) Design a multilayer ANN architecture according to the requirements shown below.\n",
        "Train, test, save (.h5) and deploy the model to predict the housing price using Keras deep\n",
        "learning library\n",
        "2. (1 ponto) Calculate training and testing error metrics\n",
        "3. (1 ponto) Build the application by loading the saved ANN model.\n",
        "Tabela 1: ANN Architecture\n",
        "Layer Neurons Activation Function\n",
        "Hidden Layer - 1 15 tanh\n",
        "Hidden Layer - 2 20 tanh\n",
        "Hidden Layer - 3 15 tanh\n",
        "Tabela 2: Training Parameters\n",
        "loss function epochs batch size error metric Optimizer\n",
        "Mean Square Error 100 16 Mean Square Error SGD\n",
        "Dataset: https://drive.google.com/file/d/1AcdENlVm5dccNyo_vgdMbneX8YVvH5R3/view?\n",
        "usp=sharing\n",
        "• Expected learning Outcomes from this assignment related to python\n",
        "– Students are able to build ANN model with python deep learning libraries\n",
        "– Students are able to deploy trained ANN model\n",
        "– Students are able to measure training and testing performance of trained model"
      ],
      "metadata": {
        "id": "esXInZ2hespQ"
      }
    },
    {
      "cell_type": "code",
      "execution_count": 1,
      "metadata": {
        "id": "Vw59dGVLdr3K"
      },
      "outputs": [],
      "source": [
        "import pandas as pd\n",
        "from sklearn.model_selection import train_test_split\n",
        "from sklearn.preprocessing import StandardScaler\n",
        "import numpy as np\n",
        "from sklearn.preprocessing import OneHotEncoder\n",
        "\n",
        "# Load dataset (Assuming CSV format after extracting from Google Drive)\n",
        "url = '/content/Housing.csv'  # Replace this with the actual dataset path\n",
        "df = pd.read_csv(url)\n",
        "\n",
        "# Split the dataset into input features and target variable (housing prices)\n",
        "X = df.drop('price', axis=1)  # Assuming 'price' is the target variable\n",
        "y = df['price']\n",
        "\n",
        "# Split the dataset into training and testing sets\n",
        "X_train, X_test, y_train, y_test = train_test_split(X, y, test_size=0.2, random_state=42)\n",
        "\n",
        "# Identify categorical features (columns with object dtype)\n",
        "categorical_features = X_train.select_dtypes(include=['object']).columns\n",
        "\n",
        "# Create and fit OneHotEncoder for categorical features\n",
        "encoder = OneHotEncoder(sparse_output=False, handle_unknown='ignore') # sparse=False for numpy array\n",
        "encoded_features_train = encoder.fit_transform(X_train[categorical_features])\n",
        "encoded_features_test = encoder.transform(X_test[categorical_features])\n",
        "\n",
        "# Create DataFrames for encoded features\n",
        "encoded_df_train = pd.DataFrame(encoded_features_train, columns=encoder.get_feature_names_out(categorical_features), index=X_train.index)\n",
        "encoded_df_test = pd.DataFrame(encoded_features_test, columns=encoder.get_feature_names_out(categorical_features), index=X_test.index)\n",
        "\n",
        "# Drop original categorical columns and concatenate encoded features\n",
        "X_train = X_train.drop(categorical_features, axis=1)\n",
        "X_test = X_test.drop(categorical_features, axis=1)\n",
        "X_train = pd.concat([X_train, encoded_df_train], axis=1)\n",
        "X_test = pd.concat([X_test, encoded_df_test], axis=1)\n",
        "\n",
        "\n",
        "# Normalize the data\n",
        "scaler = StandardScaler()\n",
        "X_train = scaler.fit_transform(X_train)\n",
        "X_test = scaler.transform(X_test)"
      ]
    },
    {
      "cell_type": "code",
      "source": [
        "from tensorflow.keras.models import Sequential\n",
        "from tensorflow.keras.layers import Dense\n",
        "from tensorflow.keras.optimizers import SGD\n",
        "from tensorflow.keras.metrics import MeanSquaredError\n",
        "\n",
        "# Define the ANN model\n",
        "model = Sequential()\n",
        "\n",
        "# Hidden Layer 1\n",
        "model.add(Dense(15, input_dim=X_train.shape[1], activation='tanh'))\n",
        "\n",
        "# Hidden Layer 2\n",
        "model.add(Dense(20, activation='tanh'))\n",
        "\n",
        "# Hidden Layer 3\n",
        "model.add(Dense(15, activation='tanh'))\n",
        "\n",
        "# Output layer (Assuming it's a regression problem, one neuron for price prediction)\n",
        "model.add(Dense(1))\n",
        "\n",
        "# Compile the model\n",
        "model.compile(loss='mean_squared_error',\n",
        "              optimizer=SGD(),\n",
        "              metrics=[MeanSquaredError()])\n"
      ],
      "metadata": {
        "colab": {
          "base_uri": "https://localhost:8080/"
        },
        "id": "QEAJsJ-Fd7vn",
        "outputId": "78bb756d-5abb-454b-9132-cee03f45187c"
      },
      "execution_count": 2,
      "outputs": [
        {
          "output_type": "stream",
          "name": "stderr",
          "text": [
            "/usr/local/lib/python3.11/dist-packages/keras/src/layers/core/dense.py:87: UserWarning: Do not pass an `input_shape`/`input_dim` argument to a layer. When using Sequential models, prefer using an `Input(shape)` object as the first layer in the model instead.\n",
            "  super().__init__(activity_regularizer=activity_regularizer, **kwargs)\n"
          ]
        }
      ]
    },
    {
      "cell_type": "code",
      "source": [
        "# Train the model\n",
        "history = model.fit(X_train, y_train,\n",
        "                    epochs=100,\n",
        "                    batch_size=16,\n",
        "                    validation_data=(X_test, y_test))\n"
      ],
      "metadata": {
        "colab": {
          "base_uri": "https://localhost:8080/"
        },
        "id": "ZzqP3oF4d_Tv",
        "outputId": "162ac6d9-d032-4c36-b486-5afb63377ddb"
      },
      "execution_count": 3,
      "outputs": [
        {
          "output_type": "stream",
          "name": "stdout",
          "text": [
            "Epoch 1/100\n",
            "\u001b[1m28/28\u001b[0m \u001b[32m━━━━━━━━━━━━━━━━━━━━\u001b[0m\u001b[37m\u001b[0m \u001b[1m1s\u001b[0m 13ms/step - loss: 10110192582656.0000 - mean_squared_error: 10110192582656.0000 - val_loss: 5237092384768.0000 - val_mean_squared_error: 5237092384768.0000\n",
            "Epoch 2/100\n",
            "\u001b[1m28/28\u001b[0m \u001b[32m━━━━━━━━━━━━━━━━━━━━\u001b[0m\u001b[37m\u001b[0m \u001b[1m0s\u001b[0m 8ms/step - loss: 2979877617664.0000 - mean_squared_error: 2979877617664.0000 - val_loss: 5481504440320.0000 - val_mean_squared_error: 5481504440320.0000\n",
            "Epoch 3/100\n",
            "\u001b[1m28/28\u001b[0m \u001b[32m━━━━━━━━━━━━━━━━━━━━\u001b[0m\u001b[37m\u001b[0m \u001b[1m0s\u001b[0m 8ms/step - loss: 3125653798912.0000 - mean_squared_error: 3125653798912.0000 - val_loss: 5268454768640.0000 - val_mean_squared_error: 5268454768640.0000\n",
            "Epoch 4/100\n",
            "\u001b[1m28/28\u001b[0m \u001b[32m━━━━━━━━━━━━━━━━━━━━\u001b[0m\u001b[37m\u001b[0m \u001b[1m0s\u001b[0m 7ms/step - loss: 2839194894336.0000 - mean_squared_error: 2839194894336.0000 - val_loss: 5056722632704.0000 - val_mean_squared_error: 5056722632704.0000\n",
            "Epoch 5/100\n",
            "\u001b[1m28/28\u001b[0m \u001b[32m━━━━━━━━━━━━━━━━━━━━\u001b[0m\u001b[37m\u001b[0m \u001b[1m0s\u001b[0m 7ms/step - loss: 2978483011584.0000 - mean_squared_error: 2978483011584.0000 - val_loss: 5240757157888.0000 - val_mean_squared_error: 5240757157888.0000\n",
            "Epoch 6/100\n",
            "\u001b[1m28/28\u001b[0m \u001b[32m━━━━━━━━━━━━━━━━━━━━\u001b[0m\u001b[37m\u001b[0m \u001b[1m0s\u001b[0m 8ms/step - loss: 3304451735552.0000 - mean_squared_error: 3304451735552.0000 - val_loss: 5438861475840.0000 - val_mean_squared_error: 5438861475840.0000\n",
            "Epoch 7/100\n",
            "\u001b[1m28/28\u001b[0m \u001b[32m━━━━━━━━━━━━━━━━━━━━\u001b[0m\u001b[37m\u001b[0m \u001b[1m0s\u001b[0m 8ms/step - loss: 2955838488576.0000 - mean_squared_error: 2955838488576.0000 - val_loss: 5208945459200.0000 - val_mean_squared_error: 5208945459200.0000\n",
            "Epoch 8/100\n",
            "\u001b[1m28/28\u001b[0m \u001b[32m━━━━━━━━━━━━━━━━━━━━\u001b[0m\u001b[37m\u001b[0m \u001b[1m0s\u001b[0m 8ms/step - loss: 2900158840832.0000 - mean_squared_error: 2900158840832.0000 - val_loss: 5448354234368.0000 - val_mean_squared_error: 5448354234368.0000\n",
            "Epoch 9/100\n",
            "\u001b[1m28/28\u001b[0m \u001b[32m━━━━━━━━━━━━━━━━━━━━\u001b[0m\u001b[37m\u001b[0m \u001b[1m0s\u001b[0m 10ms/step - loss: 3157370077184.0000 - mean_squared_error: 3157370077184.0000 - val_loss: 5336221614080.0000 - val_mean_squared_error: 5336221614080.0000\n",
            "Epoch 10/100\n",
            "\u001b[1m28/28\u001b[0m \u001b[32m━━━━━━━━━━━━━━━━━━━━\u001b[0m\u001b[37m\u001b[0m \u001b[1m0s\u001b[0m 5ms/step - loss: 2771491749888.0000 - mean_squared_error: 2771491749888.0000 - val_loss: 5069854998528.0000 - val_mean_squared_error: 5069854998528.0000\n",
            "Epoch 11/100\n",
            "\u001b[1m28/28\u001b[0m \u001b[32m━━━━━━━━━━━━━━━━━━━━\u001b[0m\u001b[37m\u001b[0m \u001b[1m0s\u001b[0m 5ms/step - loss: 3217163550720.0000 - mean_squared_error: 3217163550720.0000 - val_loss: 5084744777728.0000 - val_mean_squared_error: 5084744777728.0000\n",
            "Epoch 12/100\n",
            "\u001b[1m28/28\u001b[0m \u001b[32m━━━━━━━━━━━━━━━━━━━━\u001b[0m\u001b[37m\u001b[0m \u001b[1m0s\u001b[0m 6ms/step - loss: 3209444196352.0000 - mean_squared_error: 3209444196352.0000 - val_loss: 5256750039040.0000 - val_mean_squared_error: 5256750039040.0000\n",
            "Epoch 13/100\n",
            "\u001b[1m28/28\u001b[0m \u001b[32m━━━━━━━━━━━━━━━━━━━━\u001b[0m\u001b[37m\u001b[0m \u001b[1m0s\u001b[0m 5ms/step - loss: 2951599357952.0000 - mean_squared_error: 2951599357952.0000 - val_loss: 5099628789760.0000 - val_mean_squared_error: 5099628789760.0000\n",
            "Epoch 14/100\n",
            "\u001b[1m28/28\u001b[0m \u001b[32m━━━━━━━━━━━━━━━━━━━━\u001b[0m\u001b[37m\u001b[0m \u001b[1m0s\u001b[0m 5ms/step - loss: 3303052935168.0000 - mean_squared_error: 3303052935168.0000 - val_loss: 5065579429888.0000 - val_mean_squared_error: 5065579429888.0000\n",
            "Epoch 15/100\n",
            "\u001b[1m28/28\u001b[0m \u001b[32m━━━━━━━━━━━━━━━━━━━━\u001b[0m\u001b[37m\u001b[0m \u001b[1m0s\u001b[0m 4ms/step - loss: 3178141581312.0000 - mean_squared_error: 3178141581312.0000 - val_loss: 5245199974400.0000 - val_mean_squared_error: 5245199974400.0000\n",
            "Epoch 16/100\n",
            "\u001b[1m28/28\u001b[0m \u001b[32m━━━━━━━━━━━━━━━━━━━━\u001b[0m\u001b[37m\u001b[0m \u001b[1m0s\u001b[0m 5ms/step - loss: 3495421542400.0000 - mean_squared_error: 3495421542400.0000 - val_loss: 5163969413120.0000 - val_mean_squared_error: 5163969413120.0000\n",
            "Epoch 17/100\n",
            "\u001b[1m28/28\u001b[0m \u001b[32m━━━━━━━━━━━━━━━━━━━━\u001b[0m\u001b[37m\u001b[0m \u001b[1m0s\u001b[0m 5ms/step - loss: 3159363682304.0000 - mean_squared_error: 3159363682304.0000 - val_loss: 5360071999488.0000 - val_mean_squared_error: 5360071999488.0000\n",
            "Epoch 18/100\n",
            "\u001b[1m28/28\u001b[0m \u001b[32m━━━━━━━━━━━━━━━━━━━━\u001b[0m\u001b[37m\u001b[0m \u001b[1m0s\u001b[0m 4ms/step - loss: 3002406535168.0000 - mean_squared_error: 3002406535168.0000 - val_loss: 5324094832640.0000 - val_mean_squared_error: 5324094832640.0000\n",
            "Epoch 19/100\n",
            "\u001b[1m28/28\u001b[0m \u001b[32m━━━━━━━━━━━━━━━━━━━━\u001b[0m\u001b[37m\u001b[0m \u001b[1m0s\u001b[0m 5ms/step - loss: 3297966030848.0000 - mean_squared_error: 3297966030848.0000 - val_loss: 5356061720576.0000 - val_mean_squared_error: 5356061720576.0000\n",
            "Epoch 20/100\n",
            "\u001b[1m28/28\u001b[0m \u001b[32m━━━━━━━━━━━━━━━━━━━━\u001b[0m\u001b[37m\u001b[0m \u001b[1m0s\u001b[0m 5ms/step - loss: 3076969725952.0000 - mean_squared_error: 3076969725952.0000 - val_loss: 5378173566976.0000 - val_mean_squared_error: 5378173566976.0000\n",
            "Epoch 21/100\n",
            "\u001b[1m28/28\u001b[0m \u001b[32m━━━━━━━━━━━━━━━━━━━━\u001b[0m\u001b[37m\u001b[0m \u001b[1m0s\u001b[0m 4ms/step - loss: 3587257139200.0000 - mean_squared_error: 3587257139200.0000 - val_loss: 5245065756672.0000 - val_mean_squared_error: 5245065756672.0000\n",
            "Epoch 22/100\n",
            "\u001b[1m28/28\u001b[0m \u001b[32m━━━━━━━━━━━━━━━━━━━━\u001b[0m\u001b[37m\u001b[0m \u001b[1m0s\u001b[0m 4ms/step - loss: 3111308492800.0000 - mean_squared_error: 3111308492800.0000 - val_loss: 5078601695232.0000 - val_mean_squared_error: 5078601695232.0000\n",
            "Epoch 23/100\n",
            "\u001b[1m28/28\u001b[0m \u001b[32m━━━━━━━━━━━━━━━━━━━━\u001b[0m\u001b[37m\u001b[0m \u001b[1m0s\u001b[0m 4ms/step - loss: 3302250250240.0000 - mean_squared_error: 3302250250240.0000 - val_loss: 5075755335680.0000 - val_mean_squared_error: 5075755335680.0000\n",
            "Epoch 24/100\n",
            "\u001b[1m28/28\u001b[0m \u001b[32m━━━━━━━━━━━━━━━━━━━━\u001b[0m\u001b[37m\u001b[0m \u001b[1m0s\u001b[0m 4ms/step - loss: 3132104376320.0000 - mean_squared_error: 3132104376320.0000 - val_loss: 5139597885440.0000 - val_mean_squared_error: 5139597885440.0000\n",
            "Epoch 25/100\n",
            "\u001b[1m28/28\u001b[0m \u001b[32m━━━━━━━━━━━━━━━━━━━━\u001b[0m\u001b[37m\u001b[0m \u001b[1m0s\u001b[0m 5ms/step - loss: 2710833987584.0000 - mean_squared_error: 2710833987584.0000 - val_loss: 5424502800384.0000 - val_mean_squared_error: 5424502800384.0000\n",
            "Epoch 26/100\n",
            "\u001b[1m28/28\u001b[0m \u001b[32m━━━━━━━━━━━━━━━━━━━━\u001b[0m\u001b[37m\u001b[0m \u001b[1m0s\u001b[0m 4ms/step - loss: 2938904248320.0000 - mean_squared_error: 2938904248320.0000 - val_loss: 5199139176448.0000 - val_mean_squared_error: 5199139176448.0000\n",
            "Epoch 27/100\n",
            "\u001b[1m28/28\u001b[0m \u001b[32m━━━━━━━━━━━━━━━━━━━━\u001b[0m\u001b[37m\u001b[0m \u001b[1m0s\u001b[0m 4ms/step - loss: 2917812404224.0000 - mean_squared_error: 2917812404224.0000 - val_loss: 5241277775872.0000 - val_mean_squared_error: 5241277775872.0000\n",
            "Epoch 28/100\n",
            "\u001b[1m28/28\u001b[0m \u001b[32m━━━━━━━━━━━━━━━━━━━━\u001b[0m\u001b[37m\u001b[0m \u001b[1m0s\u001b[0m 5ms/step - loss: 3154169298944.0000 - mean_squared_error: 3154169298944.0000 - val_loss: 5116260253696.0000 - val_mean_squared_error: 5116260253696.0000\n",
            "Epoch 29/100\n",
            "\u001b[1m28/28\u001b[0m \u001b[32m━━━━━━━━━━━━━━━━━━━━\u001b[0m\u001b[37m\u001b[0m \u001b[1m0s\u001b[0m 5ms/step - loss: 3403545575424.0000 - mean_squared_error: 3403545575424.0000 - val_loss: 5347878109184.0000 - val_mean_squared_error: 5347878109184.0000\n",
            "Epoch 30/100\n",
            "\u001b[1m28/28\u001b[0m \u001b[32m━━━━━━━━━━━━━━━━━━━━\u001b[0m\u001b[37m\u001b[0m \u001b[1m0s\u001b[0m 6ms/step - loss: 3793408753664.0000 - mean_squared_error: 3793408753664.0000 - val_loss: 5221376327680.0000 - val_mean_squared_error: 5221376327680.0000\n",
            "Epoch 31/100\n",
            "\u001b[1m28/28\u001b[0m \u001b[32m━━━━━━━━━━━━━━━━━━━━\u001b[0m\u001b[37m\u001b[0m \u001b[1m0s\u001b[0m 6ms/step - loss: 3019826790400.0000 - mean_squared_error: 3019826790400.0000 - val_loss: 5233700765696.0000 - val_mean_squared_error: 5233700765696.0000\n",
            "Epoch 32/100\n",
            "\u001b[1m28/28\u001b[0m \u001b[32m━━━━━━━━━━━━━━━━━━━━\u001b[0m\u001b[37m\u001b[0m \u001b[1m0s\u001b[0m 6ms/step - loss: 3299627761664.0000 - mean_squared_error: 3299627761664.0000 - val_loss: 5705730359296.0000 - val_mean_squared_error: 5705730359296.0000\n",
            "Epoch 33/100\n",
            "\u001b[1m28/28\u001b[0m \u001b[32m━━━━━━━━━━━━━━━━━━━━\u001b[0m\u001b[37m\u001b[0m \u001b[1m0s\u001b[0m 7ms/step - loss: 3098395803648.0000 - mean_squared_error: 3098395803648.0000 - val_loss: 5071525904384.0000 - val_mean_squared_error: 5071525904384.0000\n",
            "Epoch 34/100\n",
            "\u001b[1m28/28\u001b[0m \u001b[32m━━━━━━━━━━━━━━━━━━━━\u001b[0m\u001b[37m\u001b[0m \u001b[1m0s\u001b[0m 5ms/step - loss: 3807867043840.0000 - mean_squared_error: 3807867043840.0000 - val_loss: 5275031437312.0000 - val_mean_squared_error: 5275031437312.0000\n",
            "Epoch 35/100\n",
            "\u001b[1m28/28\u001b[0m \u001b[32m━━━━━━━━━━━━━━━━━━━━\u001b[0m\u001b[37m\u001b[0m \u001b[1m0s\u001b[0m 4ms/step - loss: 3280405790720.0000 - mean_squared_error: 3280405790720.0000 - val_loss: 5104083664896.0000 - val_mean_squared_error: 5104083664896.0000\n",
            "Epoch 36/100\n",
            "\u001b[1m28/28\u001b[0m \u001b[32m━━━━━━━━━━━━━━━━━━━━\u001b[0m\u001b[37m\u001b[0m \u001b[1m0s\u001b[0m 5ms/step - loss: 3375296151552.0000 - mean_squared_error: 3375296151552.0000 - val_loss: 5058311749632.0000 - val_mean_squared_error: 5058311749632.0000\n",
            "Epoch 37/100\n",
            "\u001b[1m28/28\u001b[0m \u001b[32m━━━━━━━━━━━━━━━━━━━━\u001b[0m\u001b[37m\u001b[0m \u001b[1m0s\u001b[0m 6ms/step - loss: 2741697773568.0000 - mean_squared_error: 2741697773568.0000 - val_loss: 5083526856704.0000 - val_mean_squared_error: 5083526856704.0000\n",
            "Epoch 38/100\n",
            "\u001b[1m28/28\u001b[0m \u001b[32m━━━━━━━━━━━━━━━━━━━━\u001b[0m\u001b[37m\u001b[0m \u001b[1m0s\u001b[0m 5ms/step - loss: 2783898501120.0000 - mean_squared_error: 2783898501120.0000 - val_loss: 5226939023360.0000 - val_mean_squared_error: 5226939023360.0000\n",
            "Epoch 39/100\n",
            "\u001b[1m28/28\u001b[0m \u001b[32m━━━━━━━━━━━━━━━━━━━━\u001b[0m\u001b[37m\u001b[0m \u001b[1m0s\u001b[0m 5ms/step - loss: 3218427084800.0000 - mean_squared_error: 3218427084800.0000 - val_loss: 5259774132224.0000 - val_mean_squared_error: 5259774132224.0000\n",
            "Epoch 40/100\n",
            "\u001b[1m28/28\u001b[0m \u001b[32m━━━━━━━━━━━━━━━━━━━━\u001b[0m\u001b[37m\u001b[0m \u001b[1m0s\u001b[0m 4ms/step - loss: 3674404814848.0000 - mean_squared_error: 3674404814848.0000 - val_loss: 5429877800960.0000 - val_mean_squared_error: 5429877800960.0000\n",
            "Epoch 41/100\n",
            "\u001b[1m28/28\u001b[0m \u001b[32m━━━━━━━━━━━━━━━━━━━━\u001b[0m\u001b[37m\u001b[0m \u001b[1m0s\u001b[0m 6ms/step - loss: 2838336897024.0000 - mean_squared_error: 2838336897024.0000 - val_loss: 5364692025344.0000 - val_mean_squared_error: 5364692025344.0000\n",
            "Epoch 42/100\n",
            "\u001b[1m28/28\u001b[0m \u001b[32m━━━━━━━━━━━━━━━━━━━━\u001b[0m\u001b[37m\u001b[0m \u001b[1m0s\u001b[0m 6ms/step - loss: 3062625468416.0000 - mean_squared_error: 3062625468416.0000 - val_loss: 5054699929600.0000 - val_mean_squared_error: 5054699929600.0000\n",
            "Epoch 43/100\n",
            "\u001b[1m28/28\u001b[0m \u001b[32m━━━━━━━━━━━━━━━━━━━━\u001b[0m\u001b[37m\u001b[0m \u001b[1m0s\u001b[0m 5ms/step - loss: 3353127419904.0000 - mean_squared_error: 3353127419904.0000 - val_loss: 5397857959936.0000 - val_mean_squared_error: 5397857959936.0000\n",
            "Epoch 44/100\n",
            "\u001b[1m28/28\u001b[0m \u001b[32m━━━━━━━━━━━━━━━━━━━━\u001b[0m\u001b[37m\u001b[0m \u001b[1m0s\u001b[0m 5ms/step - loss: 3123955367936.0000 - mean_squared_error: 3123955367936.0000 - val_loss: 5511997554688.0000 - val_mean_squared_error: 5511997554688.0000\n",
            "Epoch 45/100\n",
            "\u001b[1m28/28\u001b[0m \u001b[32m━━━━━━━━━━━━━━━━━━━━\u001b[0m\u001b[37m\u001b[0m \u001b[1m0s\u001b[0m 7ms/step - loss: 3427534897152.0000 - mean_squared_error: 3427534897152.0000 - val_loss: 5310958796800.0000 - val_mean_squared_error: 5310958796800.0000\n",
            "Epoch 46/100\n",
            "\u001b[1m28/28\u001b[0m \u001b[32m━━━━━━━━━━━━━━━━━━━━\u001b[0m\u001b[37m\u001b[0m \u001b[1m0s\u001b[0m 5ms/step - loss: 3440714186752.0000 - mean_squared_error: 3440714186752.0000 - val_loss: 5148757196800.0000 - val_mean_squared_error: 5148757196800.0000\n",
            "Epoch 47/100\n",
            "\u001b[1m28/28\u001b[0m \u001b[32m━━━━━━━━━━━━━━━━━━━━\u001b[0m\u001b[37m\u001b[0m \u001b[1m0s\u001b[0m 6ms/step - loss: 2760275132416.0000 - mean_squared_error: 2760275132416.0000 - val_loss: 5406550130688.0000 - val_mean_squared_error: 5406550130688.0000\n",
            "Epoch 48/100\n",
            "\u001b[1m28/28\u001b[0m \u001b[32m━━━━━━━━━━━━━━━━━━━━\u001b[0m\u001b[37m\u001b[0m \u001b[1m0s\u001b[0m 5ms/step - loss: 3364126195712.0000 - mean_squared_error: 3364126195712.0000 - val_loss: 5105013227520.0000 - val_mean_squared_error: 5105013227520.0000\n",
            "Epoch 49/100\n",
            "\u001b[1m28/28\u001b[0m \u001b[32m━━━━━━━━━━━━━━━━━━━━\u001b[0m\u001b[37m\u001b[0m \u001b[1m0s\u001b[0m 5ms/step - loss: 2655376113664.0000 - mean_squared_error: 2655376113664.0000 - val_loss: 5283901865984.0000 - val_mean_squared_error: 5283901865984.0000\n",
            "Epoch 50/100\n",
            "\u001b[1m28/28\u001b[0m \u001b[32m━━━━━━━━━━━━━━━━━━━━\u001b[0m\u001b[37m\u001b[0m \u001b[1m0s\u001b[0m 8ms/step - loss: 2866365595648.0000 - mean_squared_error: 2866365595648.0000 - val_loss: 5071370190848.0000 - val_mean_squared_error: 5071370190848.0000\n",
            "Epoch 51/100\n",
            "\u001b[1m28/28\u001b[0m \u001b[32m━━━━━━━━━━━━━━━━━━━━\u001b[0m\u001b[37m\u001b[0m \u001b[1m0s\u001b[0m 8ms/step - loss: 3232098942976.0000 - mean_squared_error: 3232098942976.0000 - val_loss: 5280209829888.0000 - val_mean_squared_error: 5280209829888.0000\n",
            "Epoch 52/100\n",
            "\u001b[1m28/28\u001b[0m \u001b[32m━━━━━━━━━━━━━━━━━━━━\u001b[0m\u001b[37m\u001b[0m \u001b[1m0s\u001b[0m 11ms/step - loss: 2965842165760.0000 - mean_squared_error: 2965842165760.0000 - val_loss: 5594753794048.0000 - val_mean_squared_error: 5594753794048.0000\n",
            "Epoch 53/100\n",
            "\u001b[1m28/28\u001b[0m \u001b[32m━━━━━━━━━━━━━━━━━━━━\u001b[0m\u001b[37m\u001b[0m \u001b[1m1s\u001b[0m 7ms/step - loss: 3284476887040.0000 - mean_squared_error: 3284476887040.0000 - val_loss: 5121776812032.0000 - val_mean_squared_error: 5121776812032.0000\n",
            "Epoch 54/100\n",
            "\u001b[1m28/28\u001b[0m \u001b[32m━━━━━━━━━━━━━━━━━━━━\u001b[0m\u001b[37m\u001b[0m \u001b[1m0s\u001b[0m 7ms/step - loss: 3217612341248.0000 - mean_squared_error: 3217612341248.0000 - val_loss: 5662120083456.0000 - val_mean_squared_error: 5662120083456.0000\n",
            "Epoch 55/100\n",
            "\u001b[1m28/28\u001b[0m \u001b[32m━━━━━━━━━━━━━━━━━━━━\u001b[0m\u001b[37m\u001b[0m \u001b[1m0s\u001b[0m 12ms/step - loss: 2902315237376.0000 - mean_squared_error: 2902315237376.0000 - val_loss: 5173400305664.0000 - val_mean_squared_error: 5173400305664.0000\n",
            "Epoch 56/100\n",
            "\u001b[1m28/28\u001b[0m \u001b[32m━━━━━━━━━━━━━━━━━━━━\u001b[0m\u001b[37m\u001b[0m \u001b[1m0s\u001b[0m 6ms/step - loss: 3056534552576.0000 - mean_squared_error: 3056534552576.0000 - val_loss: 5134750318592.0000 - val_mean_squared_error: 5134750318592.0000\n",
            "Epoch 57/100\n",
            "\u001b[1m28/28\u001b[0m \u001b[32m━━━━━━━━━━━━━━━━━━━━\u001b[0m\u001b[37m\u001b[0m \u001b[1m0s\u001b[0m 6ms/step - loss: 3097464930304.0000 - mean_squared_error: 3097464930304.0000 - val_loss: 5054578819072.0000 - val_mean_squared_error: 5054578819072.0000\n",
            "Epoch 58/100\n",
            "\u001b[1m28/28\u001b[0m \u001b[32m━━━━━━━━━━━━━━━━━━━━\u001b[0m\u001b[37m\u001b[0m \u001b[1m0s\u001b[0m 6ms/step - loss: 2861459308544.0000 - mean_squared_error: 2861459308544.0000 - val_loss: 5288642478080.0000 - val_mean_squared_error: 5288642478080.0000\n",
            "Epoch 59/100\n",
            "\u001b[1m28/28\u001b[0m \u001b[32m━━━━━━━━━━━━━━━━━━━━\u001b[0m\u001b[37m\u001b[0m \u001b[1m0s\u001b[0m 5ms/step - loss: 3586366111744.0000 - mean_squared_error: 3586366111744.0000 - val_loss: 5328083615744.0000 - val_mean_squared_error: 5328083615744.0000\n",
            "Epoch 60/100\n",
            "\u001b[1m28/28\u001b[0m \u001b[32m━━━━━━━━━━━━━━━━━━━━\u001b[0m\u001b[37m\u001b[0m \u001b[1m0s\u001b[0m 4ms/step - loss: 3087820914688.0000 - mean_squared_error: 3087820914688.0000 - val_loss: 5129762766848.0000 - val_mean_squared_error: 5129762766848.0000\n",
            "Epoch 61/100\n",
            "\u001b[1m28/28\u001b[0m \u001b[32m━━━━━━━━━━━━━━━━━━━━\u001b[0m\u001b[37m\u001b[0m \u001b[1m0s\u001b[0m 6ms/step - loss: 3278209286144.0000 - mean_squared_error: 3278209286144.0000 - val_loss: 5266194038784.0000 - val_mean_squared_error: 5266194038784.0000\n",
            "Epoch 62/100\n",
            "\u001b[1m28/28\u001b[0m \u001b[32m━━━━━━━━━━━━━━━━━━━━\u001b[0m\u001b[37m\u001b[0m \u001b[1m0s\u001b[0m 4ms/step - loss: 2749374136320.0000 - mean_squared_error: 2749374136320.0000 - val_loss: 5059427958784.0000 - val_mean_squared_error: 5059427958784.0000\n",
            "Epoch 63/100\n",
            "\u001b[1m28/28\u001b[0m \u001b[32m━━━━━━━━━━━━━━━━━━━━\u001b[0m\u001b[37m\u001b[0m \u001b[1m0s\u001b[0m 4ms/step - loss: 3468947095552.0000 - mean_squared_error: 3468947095552.0000 - val_loss: 5516542083072.0000 - val_mean_squared_error: 5516542083072.0000\n",
            "Epoch 64/100\n",
            "\u001b[1m28/28\u001b[0m \u001b[32m━━━━━━━━━━━━━━━━━━━━\u001b[0m\u001b[37m\u001b[0m \u001b[1m0s\u001b[0m 5ms/step - loss: 3054901657600.0000 - mean_squared_error: 3054901657600.0000 - val_loss: 5232071278592.0000 - val_mean_squared_error: 5232071278592.0000\n",
            "Epoch 65/100\n",
            "\u001b[1m28/28\u001b[0m \u001b[32m━━━━━━━━━━━━━━━━━━━━\u001b[0m\u001b[37m\u001b[0m \u001b[1m0s\u001b[0m 5ms/step - loss: 3550325768192.0000 - mean_squared_error: 3550325768192.0000 - val_loss: 5244032909312.0000 - val_mean_squared_error: 5244032909312.0000\n",
            "Epoch 66/100\n",
            "\u001b[1m28/28\u001b[0m \u001b[32m━━━━━━━━━━━━━━━━━━━━\u001b[0m\u001b[37m\u001b[0m \u001b[1m0s\u001b[0m 5ms/step - loss: 3194939506688.0000 - mean_squared_error: 3194939506688.0000 - val_loss: 5277503455232.0000 - val_mean_squared_error: 5277503455232.0000\n",
            "Epoch 67/100\n",
            "\u001b[1m28/28\u001b[0m \u001b[32m━━━━━━━━━━━━━━━━━━━━\u001b[0m\u001b[37m\u001b[0m \u001b[1m0s\u001b[0m 4ms/step - loss: 2912675954688.0000 - mean_squared_error: 2912675954688.0000 - val_loss: 5066388406272.0000 - val_mean_squared_error: 5066388406272.0000\n",
            "Epoch 68/100\n",
            "\u001b[1m28/28\u001b[0m \u001b[32m━━━━━━━━━━━━━━━━━━━━\u001b[0m\u001b[37m\u001b[0m \u001b[1m0s\u001b[0m 5ms/step - loss: 3350855942144.0000 - mean_squared_error: 3350855942144.0000 - val_loss: 5277906108416.0000 - val_mean_squared_error: 5277906108416.0000\n",
            "Epoch 69/100\n",
            "\u001b[1m28/28\u001b[0m \u001b[32m━━━━━━━━━━━━━━━━━━━━\u001b[0m\u001b[37m\u001b[0m \u001b[1m0s\u001b[0m 4ms/step - loss: 2893863714816.0000 - mean_squared_error: 2893863714816.0000 - val_loss: 5057683128320.0000 - val_mean_squared_error: 5057683128320.0000\n",
            "Epoch 70/100\n",
            "\u001b[1m28/28\u001b[0m \u001b[32m━━━━━━━━━━━━━━━━━━━━\u001b[0m\u001b[37m\u001b[0m \u001b[1m0s\u001b[0m 5ms/step - loss: 2727873347584.0000 - mean_squared_error: 2727873347584.0000 - val_loss: 5066600218624.0000 - val_mean_squared_error: 5066600218624.0000\n",
            "Epoch 71/100\n",
            "\u001b[1m28/28\u001b[0m \u001b[32m━━━━━━━━━━━━━━━━━━━━\u001b[0m\u001b[37m\u001b[0m \u001b[1m0s\u001b[0m 4ms/step - loss: 3251682148352.0000 - mean_squared_error: 3251682148352.0000 - val_loss: 5775738011648.0000 - val_mean_squared_error: 5775738011648.0000\n",
            "Epoch 72/100\n",
            "\u001b[1m28/28\u001b[0m \u001b[32m━━━━━━━━━━━━━━━━━━━━\u001b[0m\u001b[37m\u001b[0m \u001b[1m0s\u001b[0m 4ms/step - loss: 2984578646016.0000 - mean_squared_error: 2984578646016.0000 - val_loss: 5248609419264.0000 - val_mean_squared_error: 5248609419264.0000\n",
            "Epoch 73/100\n",
            "\u001b[1m28/28\u001b[0m \u001b[32m━━━━━━━━━━━━━━━━━━━━\u001b[0m\u001b[37m\u001b[0m \u001b[1m0s\u001b[0m 6ms/step - loss: 3209146925056.0000 - mean_squared_error: 3209146925056.0000 - val_loss: 5082387054592.0000 - val_mean_squared_error: 5082387054592.0000\n",
            "Epoch 74/100\n",
            "\u001b[1m28/28\u001b[0m \u001b[32m━━━━━━━━━━━━━━━━━━━━\u001b[0m\u001b[37m\u001b[0m \u001b[1m0s\u001b[0m 5ms/step - loss: 3313917493248.0000 - mean_squared_error: 3313917493248.0000 - val_loss: 5204433960960.0000 - val_mean_squared_error: 5204433960960.0000\n",
            "Epoch 75/100\n",
            "\u001b[1m28/28\u001b[0m \u001b[32m━━━━━━━━━━━━━━━━━━━━\u001b[0m\u001b[37m\u001b[0m \u001b[1m0s\u001b[0m 5ms/step - loss: 3607435149312.0000 - mean_squared_error: 3607435149312.0000 - val_loss: 5409109704704.0000 - val_mean_squared_error: 5409109704704.0000\n",
            "Epoch 76/100\n",
            "\u001b[1m28/28\u001b[0m \u001b[32m━━━━━━━━━━━━━━━━━━━━\u001b[0m\u001b[37m\u001b[0m \u001b[1m0s\u001b[0m 5ms/step - loss: 3258026557440.0000 - mean_squared_error: 3258026557440.0000 - val_loss: 5299418169344.0000 - val_mean_squared_error: 5299418169344.0000\n",
            "Epoch 77/100\n",
            "\u001b[1m28/28\u001b[0m \u001b[32m━━━━━━━━━━━━━━━━━━━━\u001b[0m\u001b[37m\u001b[0m \u001b[1m0s\u001b[0m 5ms/step - loss: 3132919119872.0000 - mean_squared_error: 3132919119872.0000 - val_loss: 5448578629632.0000 - val_mean_squared_error: 5448578629632.0000\n",
            "Epoch 78/100\n",
            "\u001b[1m28/28\u001b[0m \u001b[32m━━━━━━━━━━━━━━━━━━━━\u001b[0m\u001b[37m\u001b[0m \u001b[1m0s\u001b[0m 4ms/step - loss: 2904365727744.0000 - mean_squared_error: 2904365727744.0000 - val_loss: 5429049425920.0000 - val_mean_squared_error: 5429049425920.0000\n",
            "Epoch 79/100\n",
            "\u001b[1m28/28\u001b[0m \u001b[32m━━━━━━━━━━━━━━━━━━━━\u001b[0m\u001b[37m\u001b[0m \u001b[1m0s\u001b[0m 4ms/step - loss: 3033814794240.0000 - mean_squared_error: 3033814794240.0000 - val_loss: 5063987167232.0000 - val_mean_squared_error: 5063987167232.0000\n",
            "Epoch 80/100\n",
            "\u001b[1m28/28\u001b[0m \u001b[32m━━━━━━━━━━━━━━━━━━━━\u001b[0m\u001b[37m\u001b[0m \u001b[1m0s\u001b[0m 4ms/step - loss: 2884792221696.0000 - mean_squared_error: 2884792221696.0000 - val_loss: 5196463210496.0000 - val_mean_squared_error: 5196463210496.0000\n",
            "Epoch 81/100\n",
            "\u001b[1m28/28\u001b[0m \u001b[32m━━━━━━━━━━━━━━━━━━━━\u001b[0m\u001b[37m\u001b[0m \u001b[1m0s\u001b[0m 5ms/step - loss: 3564973326336.0000 - mean_squared_error: 3564973326336.0000 - val_loss: 5181888004096.0000 - val_mean_squared_error: 5181888004096.0000\n",
            "Epoch 82/100\n",
            "\u001b[1m28/28\u001b[0m \u001b[32m━━━━━━━━━━━━━━━━━━━━\u001b[0m\u001b[37m\u001b[0m \u001b[1m0s\u001b[0m 5ms/step - loss: 2878818222080.0000 - mean_squared_error: 2878818222080.0000 - val_loss: 5070963867648.0000 - val_mean_squared_error: 5070963867648.0000\n",
            "Epoch 83/100\n",
            "\u001b[1m28/28\u001b[0m \u001b[32m━━━━━━━━━━━━━━━━━━━━\u001b[0m\u001b[37m\u001b[0m \u001b[1m0s\u001b[0m 5ms/step - loss: 2757134647296.0000 - mean_squared_error: 2757134647296.0000 - val_loss: 5291517149184.0000 - val_mean_squared_error: 5291517149184.0000\n",
            "Epoch 84/100\n",
            "\u001b[1m28/28\u001b[0m \u001b[32m━━━━━━━━━━━━━━━━━━━━\u001b[0m\u001b[37m\u001b[0m \u001b[1m0s\u001b[0m 5ms/step - loss: 3331130392576.0000 - mean_squared_error: 3331130392576.0000 - val_loss: 5055965036544.0000 - val_mean_squared_error: 5055965036544.0000\n",
            "Epoch 85/100\n",
            "\u001b[1m28/28\u001b[0m \u001b[32m━━━━━━━━━━━━━━━━━━━━\u001b[0m\u001b[37m\u001b[0m \u001b[1m0s\u001b[0m 6ms/step - loss: 3144090386432.0000 - mean_squared_error: 3144090386432.0000 - val_loss: 5252330815488.0000 - val_mean_squared_error: 5252330815488.0000\n",
            "Epoch 86/100\n",
            "\u001b[1m28/28\u001b[0m \u001b[32m━━━━━━━━━━━━━━━━━━━━\u001b[0m\u001b[37m\u001b[0m \u001b[1m0s\u001b[0m 5ms/step - loss: 3586091909120.0000 - mean_squared_error: 3586091909120.0000 - val_loss: 5468225273856.0000 - val_mean_squared_error: 5468225273856.0000\n",
            "Epoch 87/100\n",
            "\u001b[1m28/28\u001b[0m \u001b[32m━━━━━━━━━━━━━━━━━━━━\u001b[0m\u001b[37m\u001b[0m \u001b[1m0s\u001b[0m 4ms/step - loss: 3408976150528.0000 - mean_squared_error: 3408976150528.0000 - val_loss: 5813818097664.0000 - val_mean_squared_error: 5813818097664.0000\n",
            "Epoch 88/100\n",
            "\u001b[1m28/28\u001b[0m \u001b[32m━━━━━━━━━━━━━━━━━━━━\u001b[0m\u001b[37m\u001b[0m \u001b[1m0s\u001b[0m 4ms/step - loss: 3428182392832.0000 - mean_squared_error: 3428182392832.0000 - val_loss: 5081489473536.0000 - val_mean_squared_error: 5081489473536.0000\n",
            "Epoch 89/100\n",
            "\u001b[1m28/28\u001b[0m \u001b[32m━━━━━━━━━━━━━━━━━━━━\u001b[0m\u001b[37m\u001b[0m \u001b[1m0s\u001b[0m 5ms/step - loss: 3300744757248.0000 - mean_squared_error: 3300744757248.0000 - val_loss: 5124053794816.0000 - val_mean_squared_error: 5124053794816.0000\n",
            "Epoch 90/100\n",
            "\u001b[1m28/28\u001b[0m \u001b[32m━━━━━━━━━━━━━━━━━━━━\u001b[0m\u001b[37m\u001b[0m \u001b[1m0s\u001b[0m 4ms/step - loss: 2722105917440.0000 - mean_squared_error: 2722105917440.0000 - val_loss: 5075533561856.0000 - val_mean_squared_error: 5075533561856.0000\n",
            "Epoch 91/100\n",
            "\u001b[1m28/28\u001b[0m \u001b[32m━━━━━━━━━━━━━━━━━━━━\u001b[0m\u001b[37m\u001b[0m \u001b[1m0s\u001b[0m 5ms/step - loss: 3045173755904.0000 - mean_squared_error: 3045173755904.0000 - val_loss: 5055136661504.0000 - val_mean_squared_error: 5055136661504.0000\n",
            "Epoch 92/100\n",
            "\u001b[1m28/28\u001b[0m \u001b[32m━━━━━━━━━━━━━━━━━━━━\u001b[0m\u001b[37m\u001b[0m \u001b[1m0s\u001b[0m 5ms/step - loss: 3061176336384.0000 - mean_squared_error: 3061176336384.0000 - val_loss: 5258187112448.0000 - val_mean_squared_error: 5258187112448.0000\n",
            "Epoch 93/100\n",
            "\u001b[1m28/28\u001b[0m \u001b[32m━━━━━━━━━━━━━━━━━━━━\u001b[0m\u001b[37m\u001b[0m \u001b[1m0s\u001b[0m 6ms/step - loss: 2843948089344.0000 - mean_squared_error: 2843948089344.0000 - val_loss: 5264271474688.0000 - val_mean_squared_error: 5264271474688.0000\n",
            "Epoch 94/100\n",
            "\u001b[1m28/28\u001b[0m \u001b[32m━━━━━━━━━━━━━━━━━━━━\u001b[0m\u001b[37m\u001b[0m \u001b[1m0s\u001b[0m 5ms/step - loss: 3477200961536.0000 - mean_squared_error: 3477200961536.0000 - val_loss: 5151771328512.0000 - val_mean_squared_error: 5151771328512.0000\n",
            "Epoch 95/100\n",
            "\u001b[1m28/28\u001b[0m \u001b[32m━━━━━━━━━━━━━━━━━━━━\u001b[0m\u001b[37m\u001b[0m \u001b[1m0s\u001b[0m 5ms/step - loss: 2984204828672.0000 - mean_squared_error: 2984204828672.0000 - val_loss: 5077438300160.0000 - val_mean_squared_error: 5077438300160.0000\n",
            "Epoch 96/100\n",
            "\u001b[1m28/28\u001b[0m \u001b[32m━━━━━━━━━━━━━━━━━━━━\u001b[0m\u001b[37m\u001b[0m \u001b[1m0s\u001b[0m 5ms/step - loss: 2985882550272.0000 - mean_squared_error: 2985882550272.0000 - val_loss: 5173687615488.0000 - val_mean_squared_error: 5173687615488.0000\n",
            "Epoch 97/100\n",
            "\u001b[1m28/28\u001b[0m \u001b[32m━━━━━━━━━━━━━━━━━━━━\u001b[0m\u001b[37m\u001b[0m \u001b[1m0s\u001b[0m 5ms/step - loss: 3023555526656.0000 - mean_squared_error: 3023555526656.0000 - val_loss: 5214797037568.0000 - val_mean_squared_error: 5214797037568.0000\n",
            "Epoch 98/100\n",
            "\u001b[1m28/28\u001b[0m \u001b[32m━━━━━━━━━━━━━━━━━━━━\u001b[0m\u001b[37m\u001b[0m \u001b[1m0s\u001b[0m 7ms/step - loss: 2695515865088.0000 - mean_squared_error: 2695515865088.0000 - val_loss: 5304410963968.0000 - val_mean_squared_error: 5304410963968.0000\n",
            "Epoch 99/100\n",
            "\u001b[1m28/28\u001b[0m \u001b[32m━━━━━━━━━━━━━━━━━━━━\u001b[0m\u001b[37m\u001b[0m \u001b[1m0s\u001b[0m 5ms/step - loss: 2913176911872.0000 - mean_squared_error: 2913176911872.0000 - val_loss: 5067215208448.0000 - val_mean_squared_error: 5067215208448.0000\n",
            "Epoch 100/100\n",
            "\u001b[1m28/28\u001b[0m \u001b[32m━━━━━━━━━━━━━━━━━━━━\u001b[0m\u001b[37m\u001b[0m \u001b[1m0s\u001b[0m 8ms/step - loss: 2746409549824.0000 - mean_squared_error: 2746409549824.0000 - val_loss: 5056006455296.0000 - val_mean_squared_error: 5056006455296.0000\n"
          ]
        }
      ]
    },
    {
      "cell_type": "code",
      "source": [
        "# Calculate the training error\n",
        "train_loss, train_mse = model.evaluate(X_train, y_train)\n",
        "print(f\"Training MSE: {train_mse}\")\n",
        "\n",
        "# Calculate the testing error\n",
        "test_loss, test_mse = model.evaluate(X_test, y_test)\n",
        "print(f\"Testing MSE: {test_mse}\")\n"
      ],
      "metadata": {
        "colab": {
          "base_uri": "https://localhost:8080/"
        },
        "id": "wH8J2Q_LeGz_",
        "outputId": "1acad3ee-8919-49ac-9321-a553449b88f8"
      },
      "execution_count": 4,
      "outputs": [
        {
          "output_type": "stream",
          "name": "stdout",
          "text": [
            "\u001b[1m14/14\u001b[0m \u001b[32m━━━━━━━━━━━━━━━━━━━━\u001b[0m\u001b[37m\u001b[0m \u001b[1m0s\u001b[0m 3ms/step - loss: 3201359413248.0000 - mean_squared_error: 3201359413248.0000 \n",
            "Training MSE: 3152620290048.0\n",
            "\u001b[1m4/4\u001b[0m \u001b[32m━━━━━━━━━━━━━━━━━━━━\u001b[0m\u001b[37m\u001b[0m \u001b[1m0s\u001b[0m 9ms/step - loss: 5272115347456.0000 - mean_squared_error: 5272115347456.0000 \n",
            "Testing MSE: 5056006455296.0\n"
          ]
        }
      ]
    },
    {
      "cell_type": "code",
      "source": [
        "# Save the trained model\n",
        "model.save('housing_price_model.h5')\n"
      ],
      "metadata": {
        "colab": {
          "base_uri": "https://localhost:8080/"
        },
        "id": "ng43C7l6eJSP",
        "outputId": "d90597f4-4651-4240-f5fd-82bf55f29a14"
      },
      "execution_count": 5,
      "outputs": [
        {
          "output_type": "stream",
          "name": "stderr",
          "text": [
            "WARNING:absl:You are saving your model as an HDF5 file via `model.save()` or `keras.saving.save_model(model)`. This file format is considered legacy. We recommend using instead the native Keras format, e.g. `model.save('my_model.keras')` or `keras.saving.save_model(model, 'my_model.keras')`. \n"
          ]
        }
      ]
    },
    {
      "cell_type": "code",
      "source": [
        "from tensorflow.keras.models import load_model\n",
        "\n",
        "# Load the saved model\n",
        "loaded_model = load_model('housing_price_model.h5')\n",
        "\n",
        "# Make predictions on the test data\n",
        "predictions = loaded_model.predict(X_test)\n",
        "\n",
        "# Example: Compare predictions with actual values\n",
        "for actual, predicted in zip(y_test[:10], predictions[:10]):\n",
        "    print(f\"Actual: {actual}, Predicted: {predicted[0]}\")\n"
      ],
      "metadata": {
        "colab": {
          "base_uri": "https://localhost:8080/"
        },
        "id": "t2ptwoCKeMB2",
        "outputId": "6dc22bb8-2404-479e-bdd9-096288a32786"
      },
      "execution_count": 6,
      "outputs": [
        {
          "output_type": "stream",
          "name": "stderr",
          "text": [
            "WARNING:absl:Compiled the loaded model, but the compiled metrics have yet to be built. `model.compile_metrics` will be empty until you train or evaluate the model.\n"
          ]
        },
        {
          "output_type": "stream",
          "name": "stdout",
          "text": [
            "\u001b[1m4/4\u001b[0m \u001b[32m━━━━━━━━━━━━━━━━━━━━\u001b[0m\u001b[37m\u001b[0m \u001b[1m0s\u001b[0m 26ms/step\n",
            "Actual: 4060000, Predicted: 4969639.0\n",
            "Actual: 6650000, Predicted: 4969639.0\n",
            "Actual: 3710000, Predicted: 4969639.0\n",
            "Actual: 6440000, Predicted: 4969639.0\n",
            "Actual: 2800000, Predicted: 4969639.0\n",
            "Actual: 4900000, Predicted: 4969639.0\n",
            "Actual: 5250000, Predicted: 4969639.0\n",
            "Actual: 4543000, Predicted: 4969639.0\n",
            "Actual: 2450000, Predicted: 4969639.0\n",
            "Actual: 3353000, Predicted: 4969639.0\n"
          ]
        }
      ]
    },
    {
      "cell_type": "markdown",
      "source": [],
      "metadata": {
        "id": "bvCDGuMieqtH"
      }
    }
  ]
}