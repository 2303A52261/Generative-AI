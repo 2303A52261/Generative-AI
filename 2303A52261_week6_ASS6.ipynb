{
  "nbformat": 4,
  "nbformat_minor": 0,
  "metadata": {
    "colab": {
      "provenance": [],
      "authorship_tag": "ABX9TyPF1Fu2sPwn0VH4dZTTAG3C",
      "include_colab_link": true
    },
    "kernelspec": {
      "name": "python3",
      "display_name": "Python 3"
    },
    "language_info": {
      "name": "python"
    }
  },
  "cells": [
    {
      "cell_type": "markdown",
      "metadata": {
        "id": "view-in-github",
        "colab_type": "text"
      },
      "source": [
        "<a href=\"https://colab.research.google.com/github/2303A52261/Generative-AI/blob/main/2303A52261_week6_ASS6.ipynb\" target=\"_parent\"><img src=\"https://colab.research.google.com/assets/colab-badge.svg\" alt=\"Open In Colab\"/></a>"
      ]
    },
    {
      "cell_type": "markdown",
      "source": [
        "\n",
        "\n",
        "```\n",
        "# This is formatted as code\n",
        "```\n",
        "\n"
      ],
      "metadata": {
        "id": "NArFwPp3rsan"
      }
    },
    {
      "cell_type": "markdown",
      "source": [
        "1.Design a multilayer ANN architecture according to the requirements shown below. Train, test, save (.h5) and deploy the model to predict the housing price using Keras deep learning library\n"
      ],
      "metadata": {
        "id": "KaOOPpcPr4oI"
      }
    },
    {
      "cell_type": "code",
      "execution_count": 3,
      "metadata": {
        "id": "lNnqQPp-qE_S"
      },
      "outputs": [],
      "source": [
        "import pandas as pd\n",
        "from sklearn.model_selection import train_test_split\n",
        "from sklearn.preprocessing import StandardScaler\n",
        "import numpy as np\n",
        "from sklearn.preprocessing import OneHotEncoder\n",
        "url = '/content/Housing (2).csv'\n",
        "df = pd.read_csv(url)\n",
        "X = df.drop('price', axis=1)\n",
        "y = df['price']\n",
        "X_train, X_test, y_train, y_test = train_test_split(X, y, test_size=0.2, random_state=42)\n",
        "categorical_features = X_train.select_dtypes(include=['object']).columns\n",
        "encoder = OneHotEncoder(sparse_output=False, handle_unknown='ignore')\n",
        "encoded_features_train = encoder.fit_transform(X_train[categorical_features])\n",
        "encoded_features_test = encoder.transform(X_test[categorical_features])\n",
        "encoded_df_train = pd.DataFrame(encoded_features_train, columns=encoder.get_feature_names_out(categorical_features), index=X_train.index)\n",
        "encoded_df_test = pd.DataFrame(encoded_features_test, columns=encoder.get_feature_names_out(categorical_features), index=X_test.index)\n",
        "X_train = X_train.drop(categorical_features, axis=1)\n",
        "X_test = X_test.drop(categorical_features, axis=1)\n",
        "X_train = pd.concat([X_train, encoded_df_train], axis=1)\n",
        "X_test = pd.concat([X_test, encoded_df_test], axis=1)\n",
        "scaler = StandardScaler()\n",
        "X_train = scaler.fit_transform(X_train)\n",
        "X_test = scaler.transform(X_test)"
      ]
    },
    {
      "cell_type": "markdown",
      "source": [
        "2.Calculate training and testing error metrics"
      ],
      "metadata": {
        "id": "UJ-wRvtJsI9X"
      }
    },
    {
      "cell_type": "markdown",
      "source": [],
      "metadata": {
        "id": "7NEbQo8drnd5"
      }
    },
    {
      "cell_type": "code",
      "source": [
        "from tensorflow.keras.models import Sequential\n",
        "from tensorflow.keras.layers import Dense\n",
        "from tensorflow.keras.optimizers import SGD\n",
        "from tensorflow.keras.metrics import MeanSquaredError\n",
        "model = Sequential()\n",
        "model.add(Dense(15, input_dim=X_train.shape[1], activation='tanh'))\n",
        "model.add(Dense(20, activation='tanh'))\n",
        "model.add(Dense(15, activation='tanh'))\n",
        "model.add(Dense(1))\n",
        "model.compile(loss='mean_squared_error',\n",
        "              optimizer=SGD(),\n",
        "              metrics=[MeanSquaredError()])\n",
        "\n"
      ],
      "metadata": {
        "colab": {
          "base_uri": "https://localhost:8080/"
        },
        "id": "pANg8sGQufS_",
        "outputId": "44b85dcc-bfb9-4241-a05c-478048be155b"
      },
      "execution_count": 4,
      "outputs": [
        {
          "output_type": "stream",
          "name": "stderr",
          "text": [
            "/usr/local/lib/python3.11/dist-packages/keras/src/layers/core/dense.py:87: UserWarning: Do not pass an `input_shape`/`input_dim` argument to a layer. When using Sequential models, prefer using an `Input(shape)` object as the first layer in the model instead.\n",
            "  super().__init__(activity_regularizer=activity_regularizer, **kwargs)\n"
          ]
        }
      ]
    },
    {
      "cell_type": "markdown",
      "source": [
        "3.Build the application by loading the saved ANN model. Tabela 1: ANN Architecture Layer Neurons Activation Function Hidden Layer - 1 15 tanh Hidden Layer - 2 20 tanh Hidden Layer - 3 15 tanh Tabela 2: Training Parameters loss function epochs batch size error metric Optimizer Mean Square Error 100 16 Mean Square Error SGD Dataset: https://drive.google.com/file/d/1AcdENlVm5dccNyo_vgdMbneX8YVvH5R3/view? usp=sharing"
      ],
      "metadata": {
        "id": "mTbj_Vy9u2eg"
      }
    },
    {
      "cell_type": "code",
      "source": [
        "history = model.fit(X_train, y_train,\n",
        "                    epochs=100,\n",
        "                    batch_size=16,\n",
        "                    validation_data=(X_test, y_test))\n",
        ""
      ],
      "metadata": {
        "colab": {
          "base_uri": "https://localhost:8080/"
        },
        "id": "UdZJmWeZu3XX",
        "outputId": "b2b66da8-3e44-4047-9c4f-afc991411eea"
      },
      "execution_count": 5,
      "outputs": [
        {
          "output_type": "stream",
          "name": "stdout",
          "text": [
            "Epoch 1/100\n",
            "\u001b[1m28/28\u001b[0m \u001b[32m━━━━━━━━━━━━━━━━━━━━\u001b[0m\u001b[37m\u001b[0m \u001b[1m1s\u001b[0m 11ms/step - loss: 10105508593664.0000 - mean_squared_error: 10105508593664.0000 - val_loss: 5289308848128.0000 - val_mean_squared_error: 5289308848128.0000\n",
            "Epoch 2/100\n",
            "\u001b[1m28/28\u001b[0m \u001b[32m━━━━━━━━━━━━━━━━━━━━\u001b[0m\u001b[37m\u001b[0m \u001b[1m0s\u001b[0m 4ms/step - loss: 3187738673152.0000 - mean_squared_error: 3187738673152.0000 - val_loss: 5105391239168.0000 - val_mean_squared_error: 5105391239168.0000\n",
            "Epoch 3/100\n",
            "\u001b[1m28/28\u001b[0m \u001b[32m━━━━━━━━━━━━━━━━━━━━\u001b[0m\u001b[37m\u001b[0m \u001b[1m0s\u001b[0m 5ms/step - loss: 3602130403328.0000 - mean_squared_error: 3602130403328.0000 - val_loss: 5351409188864.0000 - val_mean_squared_error: 5351409188864.0000\n",
            "Epoch 4/100\n",
            "\u001b[1m28/28\u001b[0m \u001b[32m━━━━━━━━━━━━━━━━━━━━\u001b[0m\u001b[37m\u001b[0m \u001b[1m0s\u001b[0m 6ms/step - loss: 2914712289280.0000 - mean_squared_error: 2914712289280.0000 - val_loss: 5079343562752.0000 - val_mean_squared_error: 5079343562752.0000\n",
            "Epoch 5/100\n",
            "\u001b[1m28/28\u001b[0m \u001b[32m━━━━━━━━━━━━━━━━━━━━\u001b[0m\u001b[37m\u001b[0m \u001b[1m0s\u001b[0m 5ms/step - loss: 3244315901952.0000 - mean_squared_error: 3244315901952.0000 - val_loss: 5501942235136.0000 - val_mean_squared_error: 5501942235136.0000\n",
            "Epoch 6/100\n",
            "\u001b[1m28/28\u001b[0m \u001b[32m━━━━━━━━━━━━━━━━━━━━\u001b[0m\u001b[37m\u001b[0m \u001b[1m0s\u001b[0m 6ms/step - loss: 3289572442112.0000 - mean_squared_error: 3289572442112.0000 - val_loss: 5192339161088.0000 - val_mean_squared_error: 5192339161088.0000\n",
            "Epoch 7/100\n",
            "\u001b[1m28/28\u001b[0m \u001b[32m━━━━━━━━━━━━━━━━━━━━\u001b[0m\u001b[37m\u001b[0m \u001b[1m0s\u001b[0m 6ms/step - loss: 3315676741632.0000 - mean_squared_error: 3315676741632.0000 - val_loss: 5747687555072.0000 - val_mean_squared_error: 5747687555072.0000\n",
            "Epoch 8/100\n",
            "\u001b[1m28/28\u001b[0m \u001b[32m━━━━━━━━━━━━━━━━━━━━\u001b[0m\u001b[37m\u001b[0m \u001b[1m0s\u001b[0m 5ms/step - loss: 2938827177984.0000 - mean_squared_error: 2938827177984.0000 - val_loss: 5122461007872.0000 - val_mean_squared_error: 5122461007872.0000\n",
            "Epoch 9/100\n",
            "\u001b[1m28/28\u001b[0m \u001b[32m━━━━━━━━━━━━━━━━━━━━\u001b[0m\u001b[37m\u001b[0m \u001b[1m0s\u001b[0m 5ms/step - loss: 3276658442240.0000 - mean_squared_error: 3276658442240.0000 - val_loss: 5238772727808.0000 - val_mean_squared_error: 5238772727808.0000\n",
            "Epoch 10/100\n",
            "\u001b[1m28/28\u001b[0m \u001b[32m━━━━━━━━━━━━━━━━━━━━\u001b[0m\u001b[37m\u001b[0m \u001b[1m0s\u001b[0m 4ms/step - loss: 3120636100608.0000 - mean_squared_error: 3120636100608.0000 - val_loss: 5244717629440.0000 - val_mean_squared_error: 5244717629440.0000\n",
            "Epoch 11/100\n",
            "\u001b[1m28/28\u001b[0m \u001b[32m━━━━━━━━━━━━━━━━━━━━\u001b[0m\u001b[37m\u001b[0m \u001b[1m0s\u001b[0m 6ms/step - loss: 2823602044928.0000 - mean_squared_error: 2823602044928.0000 - val_loss: 5054856167424.0000 - val_mean_squared_error: 5054856167424.0000\n",
            "Epoch 12/100\n",
            "\u001b[1m28/28\u001b[0m \u001b[32m━━━━━━━━━━━━━━━━━━━━\u001b[0m\u001b[37m\u001b[0m \u001b[1m0s\u001b[0m 4ms/step - loss: 3378785288192.0000 - mean_squared_error: 3378785288192.0000 - val_loss: 5064342634496.0000 - val_mean_squared_error: 5064342634496.0000\n",
            "Epoch 13/100\n",
            "\u001b[1m28/28\u001b[0m \u001b[32m━━━━━━━━━━━━━━━━━━━━\u001b[0m\u001b[37m\u001b[0m \u001b[1m0s\u001b[0m 4ms/step - loss: 3519516246016.0000 - mean_squared_error: 3519516246016.0000 - val_loss: 5092672536576.0000 - val_mean_squared_error: 5092672536576.0000\n",
            "Epoch 14/100\n",
            "\u001b[1m28/28\u001b[0m \u001b[32m━━━━━━━━━━━━━━━━━━━━\u001b[0m\u001b[37m\u001b[0m \u001b[1m0s\u001b[0m 6ms/step - loss: 2509142228992.0000 - mean_squared_error: 2509142228992.0000 - val_loss: 5224114159616.0000 - val_mean_squared_error: 5224114159616.0000\n",
            "Epoch 15/100\n",
            "\u001b[1m28/28\u001b[0m \u001b[32m━━━━━━━━━━━━━━━━━━━━\u001b[0m\u001b[37m\u001b[0m \u001b[1m0s\u001b[0m 4ms/step - loss: 3133447077888.0000 - mean_squared_error: 3133447077888.0000 - val_loss: 5216962871296.0000 - val_mean_squared_error: 5216962871296.0000\n",
            "Epoch 16/100\n",
            "\u001b[1m28/28\u001b[0m \u001b[32m━━━━━━━━━━━━━━━━━━━━\u001b[0m\u001b[37m\u001b[0m \u001b[1m0s\u001b[0m 5ms/step - loss: 3028509523968.0000 - mean_squared_error: 3028509523968.0000 - val_loss: 5081120374784.0000 - val_mean_squared_error: 5081120374784.0000\n",
            "Epoch 17/100\n",
            "\u001b[1m28/28\u001b[0m \u001b[32m━━━━━━━━━━━━━━━━━━━━\u001b[0m\u001b[37m\u001b[0m \u001b[1m0s\u001b[0m 5ms/step - loss: 3175675330560.0000 - mean_squared_error: 3175675330560.0000 - val_loss: 5401468207104.0000 - val_mean_squared_error: 5401468207104.0000\n",
            "Epoch 18/100\n",
            "\u001b[1m28/28\u001b[0m \u001b[32m━━━━━━━━━━━━━━━━━━━━\u001b[0m\u001b[37m\u001b[0m \u001b[1m0s\u001b[0m 4ms/step - loss: 3177428549632.0000 - mean_squared_error: 3177428549632.0000 - val_loss: 5117496000512.0000 - val_mean_squared_error: 5117496000512.0000\n",
            "Epoch 19/100\n",
            "\u001b[1m28/28\u001b[0m \u001b[32m━━━━━━━━━━━━━━━━━━━━\u001b[0m\u001b[37m\u001b[0m \u001b[1m0s\u001b[0m 4ms/step - loss: 3472403988480.0000 - mean_squared_error: 3472403988480.0000 - val_loss: 5307255750656.0000 - val_mean_squared_error: 5307255750656.0000\n",
            "Epoch 20/100\n",
            "\u001b[1m28/28\u001b[0m \u001b[32m━━━━━━━━━━━━━━━━━━━━\u001b[0m\u001b[37m\u001b[0m \u001b[1m0s\u001b[0m 4ms/step - loss: 3040916537344.0000 - mean_squared_error: 3040916537344.0000 - val_loss: 5173014953984.0000 - val_mean_squared_error: 5173014953984.0000\n",
            "Epoch 21/100\n",
            "\u001b[1m28/28\u001b[0m \u001b[32m━━━━━━━━━━━━━━━━━━━━\u001b[0m\u001b[37m\u001b[0m \u001b[1m0s\u001b[0m 4ms/step - loss: 3056670343168.0000 - mean_squared_error: 3056670343168.0000 - val_loss: 5150754734080.0000 - val_mean_squared_error: 5150754734080.0000\n",
            "Epoch 22/100\n",
            "\u001b[1m28/28\u001b[0m \u001b[32m━━━━━━━━━━━━━━━━━━━━\u001b[0m\u001b[37m\u001b[0m \u001b[1m0s\u001b[0m 4ms/step - loss: 3053295763456.0000 - mean_squared_error: 3053295763456.0000 - val_loss: 5219319021568.0000 - val_mean_squared_error: 5219319021568.0000\n",
            "Epoch 23/100\n",
            "\u001b[1m28/28\u001b[0m \u001b[32m━━━━━━━━━━━━━━━━━━━━\u001b[0m\u001b[37m\u001b[0m \u001b[1m0s\u001b[0m 5ms/step - loss: 2781863215104.0000 - mean_squared_error: 2781863215104.0000 - val_loss: 5430787964928.0000 - val_mean_squared_error: 5430787964928.0000\n",
            "Epoch 24/100\n",
            "\u001b[1m28/28\u001b[0m \u001b[32m━━━━━━━━━━━━━━━━━━━━\u001b[0m\u001b[37m\u001b[0m \u001b[1m0s\u001b[0m 4ms/step - loss: 3470017167360.0000 - mean_squared_error: 3470017167360.0000 - val_loss: 5062976339968.0000 - val_mean_squared_error: 5062976339968.0000\n",
            "Epoch 25/100\n",
            "\u001b[1m28/28\u001b[0m \u001b[32m━━━━━━━━━━━━━━━━━━━━\u001b[0m\u001b[37m\u001b[0m \u001b[1m0s\u001b[0m 5ms/step - loss: 2985585016832.0000 - mean_squared_error: 2985585016832.0000 - val_loss: 5065718890496.0000 - val_mean_squared_error: 5065718890496.0000\n",
            "Epoch 26/100\n",
            "\u001b[1m28/28\u001b[0m \u001b[32m━━━━━━━━━━━━━━━━━━━━\u001b[0m\u001b[37m\u001b[0m \u001b[1m0s\u001b[0m 4ms/step - loss: 3109378850816.0000 - mean_squared_error: 3109378850816.0000 - val_loss: 5263390670848.0000 - val_mean_squared_error: 5263390670848.0000\n",
            "Epoch 27/100\n",
            "\u001b[1m28/28\u001b[0m \u001b[32m━━━━━━━━━━━━━━━━━━━━\u001b[0m\u001b[37m\u001b[0m \u001b[1m0s\u001b[0m 5ms/step - loss: 2860769083392.0000 - mean_squared_error: 2860769083392.0000 - val_loss: 5054720901120.0000 - val_mean_squared_error: 5054720901120.0000\n",
            "Epoch 28/100\n",
            "\u001b[1m28/28\u001b[0m \u001b[32m━━━━━━━━━━━━━━━━━━━━\u001b[0m\u001b[37m\u001b[0m \u001b[1m0s\u001b[0m 6ms/step - loss: 3219726008320.0000 - mean_squared_error: 3219726008320.0000 - val_loss: 5281600765952.0000 - val_mean_squared_error: 5281600765952.0000\n",
            "Epoch 29/100\n",
            "\u001b[1m28/28\u001b[0m \u001b[32m━━━━━━━━━━━━━━━━━━━━\u001b[0m\u001b[37m\u001b[0m \u001b[1m0s\u001b[0m 4ms/step - loss: 3608939593728.0000 - mean_squared_error: 3608939593728.0000 - val_loss: 5132615942144.0000 - val_mean_squared_error: 5132615942144.0000\n",
            "Epoch 30/100\n",
            "\u001b[1m28/28\u001b[0m \u001b[32m━━━━━━━━━━━━━━━━━━━━\u001b[0m\u001b[37m\u001b[0m \u001b[1m0s\u001b[0m 6ms/step - loss: 3290468974592.0000 - mean_squared_error: 3290468974592.0000 - val_loss: 5329824776192.0000 - val_mean_squared_error: 5329824776192.0000\n",
            "Epoch 31/100\n",
            "\u001b[1m28/28\u001b[0m \u001b[32m━━━━━━━━━━━━━━━━━━━━\u001b[0m\u001b[37m\u001b[0m \u001b[1m0s\u001b[0m 8ms/step - loss: 3098022772736.0000 - mean_squared_error: 3098022772736.0000 - val_loss: 5054610800640.0000 - val_mean_squared_error: 5054610800640.0000\n",
            "Epoch 32/100\n",
            "\u001b[1m28/28\u001b[0m \u001b[32m━━━━━━━━━━━━━━━━━━━━\u001b[0m\u001b[37m\u001b[0m \u001b[1m0s\u001b[0m 7ms/step - loss: 3327156551680.0000 - mean_squared_error: 3327156551680.0000 - val_loss: 5403855290368.0000 - val_mean_squared_error: 5403855290368.0000\n",
            "Epoch 33/100\n",
            "\u001b[1m28/28\u001b[0m \u001b[32m━━━━━━━━━━━━━━━━━━━━\u001b[0m\u001b[37m\u001b[0m \u001b[1m0s\u001b[0m 7ms/step - loss: 3550511104000.0000 - mean_squared_error: 3550511104000.0000 - val_loss: 5319745863680.0000 - val_mean_squared_error: 5319745863680.0000\n",
            "Epoch 34/100\n",
            "\u001b[1m28/28\u001b[0m \u001b[32m━━━━━━━━━━━━━━━━━━━━\u001b[0m\u001b[37m\u001b[0m \u001b[1m0s\u001b[0m 7ms/step - loss: 3513888800768.0000 - mean_squared_error: 3513888800768.0000 - val_loss: 5068572065792.0000 - val_mean_squared_error: 5068572065792.0000\n",
            "Epoch 35/100\n",
            "\u001b[1m28/28\u001b[0m \u001b[32m━━━━━━━━━━━━━━━━━━━━\u001b[0m\u001b[37m\u001b[0m \u001b[1m0s\u001b[0m 8ms/step - loss: 3158589833216.0000 - mean_squared_error: 3158589833216.0000 - val_loss: 5914989428736.0000 - val_mean_squared_error: 5914989428736.0000\n",
            "Epoch 36/100\n",
            "\u001b[1m28/28\u001b[0m \u001b[32m━━━━━━━━━━━━━━━━━━━━\u001b[0m\u001b[37m\u001b[0m \u001b[1m0s\u001b[0m 9ms/step - loss: 3380996210688.0000 - mean_squared_error: 3380996210688.0000 - val_loss: 5079575822336.0000 - val_mean_squared_error: 5079575822336.0000\n",
            "Epoch 37/100\n",
            "\u001b[1m28/28\u001b[0m \u001b[32m━━━━━━━━━━━━━━━━━━━━\u001b[0m\u001b[37m\u001b[0m \u001b[1m0s\u001b[0m 8ms/step - loss: 3412317962240.0000 - mean_squared_error: 3412317962240.0000 - val_loss: 5090885763072.0000 - val_mean_squared_error: 5090885763072.0000\n",
            "Epoch 38/100\n",
            "\u001b[1m28/28\u001b[0m \u001b[32m━━━━━━━━━━━━━━━━━━━━\u001b[0m\u001b[37m\u001b[0m \u001b[1m0s\u001b[0m 7ms/step - loss: 3261980737536.0000 - mean_squared_error: 3261980737536.0000 - val_loss: 5095440252928.0000 - val_mean_squared_error: 5095440252928.0000\n",
            "Epoch 39/100\n",
            "\u001b[1m28/28\u001b[0m \u001b[32m━━━━━━━━━━━━━━━━━━━━\u001b[0m\u001b[37m\u001b[0m \u001b[1m0s\u001b[0m 5ms/step - loss: 3207519010816.0000 - mean_squared_error: 3207519010816.0000 - val_loss: 5112676220928.0000 - val_mean_squared_error: 5112676220928.0000\n",
            "Epoch 40/100\n",
            "\u001b[1m28/28\u001b[0m \u001b[32m━━━━━━━━━━━━━━━━━━━━\u001b[0m\u001b[37m\u001b[0m \u001b[1m0s\u001b[0m 4ms/step - loss: 2942083006464.0000 - mean_squared_error: 2942083006464.0000 - val_loss: 5557807742976.0000 - val_mean_squared_error: 5557807742976.0000\n",
            "Epoch 41/100\n",
            "\u001b[1m28/28\u001b[0m \u001b[32m━━━━━━━━━━━━━━━━━━━━\u001b[0m\u001b[37m\u001b[0m \u001b[1m0s\u001b[0m 5ms/step - loss: 2910624940032.0000 - mean_squared_error: 2910624940032.0000 - val_loss: 5313522040832.0000 - val_mean_squared_error: 5313522040832.0000\n",
            "Epoch 42/100\n",
            "\u001b[1m28/28\u001b[0m \u001b[32m━━━━━━━━━━━━━━━━━━━━\u001b[0m\u001b[37m\u001b[0m \u001b[1m0s\u001b[0m 4ms/step - loss: 3123289260032.0000 - mean_squared_error: 3123289260032.0000 - val_loss: 5204842905600.0000 - val_mean_squared_error: 5204842905600.0000\n",
            "Epoch 43/100\n",
            "\u001b[1m28/28\u001b[0m \u001b[32m━━━━━━━━━━━━━━━━━━━━\u001b[0m\u001b[37m\u001b[0m \u001b[1m0s\u001b[0m 4ms/step - loss: 2748327919616.0000 - mean_squared_error: 2748327919616.0000 - val_loss: 5185010663424.0000 - val_mean_squared_error: 5185010663424.0000\n",
            "Epoch 44/100\n",
            "\u001b[1m28/28\u001b[0m \u001b[32m━━━━━━━━━━━━━━━━━━━━\u001b[0m\u001b[37m\u001b[0m \u001b[1m0s\u001b[0m 5ms/step - loss: 2719248023552.0000 - mean_squared_error: 2719248023552.0000 - val_loss: 5463434330112.0000 - val_mean_squared_error: 5463434330112.0000\n",
            "Epoch 45/100\n",
            "\u001b[1m28/28\u001b[0m \u001b[32m━━━━━━━━━━━━━━━━━━━━\u001b[0m\u001b[37m\u001b[0m \u001b[1m0s\u001b[0m 5ms/step - loss: 2875653619712.0000 - mean_squared_error: 2875653619712.0000 - val_loss: 5054758125568.0000 - val_mean_squared_error: 5054758125568.0000\n",
            "Epoch 46/100\n",
            "\u001b[1m28/28\u001b[0m \u001b[32m━━━━━━━━━━━━━━━━━━━━\u001b[0m\u001b[37m\u001b[0m \u001b[1m0s\u001b[0m 4ms/step - loss: 3134477041664.0000 - mean_squared_error: 3134477041664.0000 - val_loss: 5093747851264.0000 - val_mean_squared_error: 5093747851264.0000\n",
            "Epoch 47/100\n",
            "\u001b[1m28/28\u001b[0m \u001b[32m━━━━━━━━━━━━━━━━━━━━\u001b[0m\u001b[37m\u001b[0m \u001b[1m0s\u001b[0m 5ms/step - loss: 3072621543424.0000 - mean_squared_error: 3072621543424.0000 - val_loss: 5365171224576.0000 - val_mean_squared_error: 5365171224576.0000\n",
            "Epoch 48/100\n",
            "\u001b[1m28/28\u001b[0m \u001b[32m━━━━━━━━━━━━━━━━━━━━\u001b[0m\u001b[37m\u001b[0m \u001b[1m0s\u001b[0m 5ms/step - loss: 2917419712512.0000 - mean_squared_error: 2917419712512.0000 - val_loss: 5281410973696.0000 - val_mean_squared_error: 5281410973696.0000\n",
            "Epoch 49/100\n",
            "\u001b[1m28/28\u001b[0m \u001b[32m━━━━━━━━━━━━━━━━━━━━\u001b[0m\u001b[37m\u001b[0m \u001b[1m0s\u001b[0m 4ms/step - loss: 3341006143488.0000 - mean_squared_error: 3341006143488.0000 - val_loss: 5359037054976.0000 - val_mean_squared_error: 5359037054976.0000\n",
            "Epoch 50/100\n",
            "\u001b[1m28/28\u001b[0m \u001b[32m━━━━━━━━━━━━━━━━━━━━\u001b[0m\u001b[37m\u001b[0m \u001b[1m0s\u001b[0m 6ms/step - loss: 3145340813312.0000 - mean_squared_error: 3145340813312.0000 - val_loss: 5390921105408.0000 - val_mean_squared_error: 5390921105408.0000\n",
            "Epoch 51/100\n",
            "\u001b[1m28/28\u001b[0m \u001b[32m━━━━━━━━━━━━━━━━━━━━\u001b[0m\u001b[37m\u001b[0m \u001b[1m0s\u001b[0m 5ms/step - loss: 3232816693248.0000 - mean_squared_error: 3232816693248.0000 - val_loss: 5057751285760.0000 - val_mean_squared_error: 5057751285760.0000\n",
            "Epoch 52/100\n",
            "\u001b[1m28/28\u001b[0m \u001b[32m━━━━━━━━━━━━━━━━━━━━\u001b[0m\u001b[37m\u001b[0m \u001b[1m0s\u001b[0m 4ms/step - loss: 3139386998784.0000 - mean_squared_error: 3139386998784.0000 - val_loss: 5075826114560.0000 - val_mean_squared_error: 5075826114560.0000\n",
            "Epoch 53/100\n",
            "\u001b[1m28/28\u001b[0m \u001b[32m━━━━━━━━━━━━━━━━━━━━\u001b[0m\u001b[37m\u001b[0m \u001b[1m0s\u001b[0m 5ms/step - loss: 2948657840128.0000 - mean_squared_error: 2948657840128.0000 - val_loss: 5260801736704.0000 - val_mean_squared_error: 5260801736704.0000\n",
            "Epoch 54/100\n",
            "\u001b[1m28/28\u001b[0m \u001b[32m━━━━━━━━━━━━━━━━━━━━\u001b[0m\u001b[37m\u001b[0m \u001b[1m0s\u001b[0m 5ms/step - loss: 3131245068288.0000 - mean_squared_error: 3131245068288.0000 - val_loss: 5165153779712.0000 - val_mean_squared_error: 5165153779712.0000\n",
            "Epoch 55/100\n",
            "\u001b[1m28/28\u001b[0m \u001b[32m━━━━━━━━━━━━━━━━━━━━\u001b[0m\u001b[37m\u001b[0m \u001b[1m0s\u001b[0m 5ms/step - loss: 3063748493312.0000 - mean_squared_error: 3063748493312.0000 - val_loss: 5118606442496.0000 - val_mean_squared_error: 5118606442496.0000\n",
            "Epoch 56/100\n",
            "\u001b[1m28/28\u001b[0m \u001b[32m━━━━━━━━━━━━━━━━━━━━\u001b[0m\u001b[37m\u001b[0m \u001b[1m0s\u001b[0m 4ms/step - loss: 2763096064000.0000 - mean_squared_error: 2763096064000.0000 - val_loss: 5060960976896.0000 - val_mean_squared_error: 5060960976896.0000\n",
            "Epoch 57/100\n",
            "\u001b[1m28/28\u001b[0m \u001b[32m━━━━━━━━━━━━━━━━━━━━\u001b[0m\u001b[37m\u001b[0m \u001b[1m0s\u001b[0m 8ms/step - loss: 3519472205824.0000 - mean_squared_error: 3519472205824.0000 - val_loss: 5074595610624.0000 - val_mean_squared_error: 5074595610624.0000\n",
            "Epoch 58/100\n",
            "\u001b[1m28/28\u001b[0m \u001b[32m━━━━━━━━━━━━━━━━━━━━\u001b[0m\u001b[37m\u001b[0m \u001b[1m0s\u001b[0m 6ms/step - loss: 3188106985472.0000 - mean_squared_error: 3188106985472.0000 - val_loss: 5247149801472.0000 - val_mean_squared_error: 5247149801472.0000\n",
            "Epoch 59/100\n",
            "\u001b[1m28/28\u001b[0m \u001b[32m━━━━━━━━━━━━━━━━━━━━\u001b[0m\u001b[37m\u001b[0m \u001b[1m0s\u001b[0m 5ms/step - loss: 3105190838272.0000 - mean_squared_error: 3105190838272.0000 - val_loss: 5100006277120.0000 - val_mean_squared_error: 5100006277120.0000\n",
            "Epoch 60/100\n",
            "\u001b[1m28/28\u001b[0m \u001b[32m━━━━━━━━━━━━━━━━━━━━\u001b[0m\u001b[37m\u001b[0m \u001b[1m0s\u001b[0m 5ms/step - loss: 2975269388288.0000 - mean_squared_error: 2975269388288.0000 - val_loss: 5271897243648.0000 - val_mean_squared_error: 5271897243648.0000\n",
            "Epoch 61/100\n",
            "\u001b[1m28/28\u001b[0m \u001b[32m━━━━━━━━━━━━━━━━━━━━\u001b[0m\u001b[37m\u001b[0m \u001b[1m0s\u001b[0m 4ms/step - loss: 3455992987648.0000 - mean_squared_error: 3455992987648.0000 - val_loss: 5192149368832.0000 - val_mean_squared_error: 5192149368832.0000\n",
            "Epoch 62/100\n",
            "\u001b[1m28/28\u001b[0m \u001b[32m━━━━━━━━━━━━━━━━━━━━\u001b[0m\u001b[37m\u001b[0m \u001b[1m0s\u001b[0m 5ms/step - loss: 2836988952576.0000 - mean_squared_error: 2836988952576.0000 - val_loss: 5105666490368.0000 - val_mean_squared_error: 5105666490368.0000\n",
            "Epoch 63/100\n",
            "\u001b[1m28/28\u001b[0m \u001b[32m━━━━━━━━━━━━━━━━━━━━\u001b[0m\u001b[37m\u001b[0m \u001b[1m0s\u001b[0m 4ms/step - loss: 3790448885760.0000 - mean_squared_error: 3790448885760.0000 - val_loss: 5398027829248.0000 - val_mean_squared_error: 5398027829248.0000\n",
            "Epoch 64/100\n",
            "\u001b[1m28/28\u001b[0m \u001b[32m━━━━━━━━━━━━━━━━━━━━\u001b[0m\u001b[37m\u001b[0m \u001b[1m0s\u001b[0m 5ms/step - loss: 2760634531840.0000 - mean_squared_error: 2760634531840.0000 - val_loss: 5148493479936.0000 - val_mean_squared_error: 5148493479936.0000\n",
            "Epoch 65/100\n",
            "\u001b[1m28/28\u001b[0m \u001b[32m━━━━━━━━━━━━━━━━━━━━\u001b[0m\u001b[37m\u001b[0m \u001b[1m0s\u001b[0m 5ms/step - loss: 3418565378048.0000 - mean_squared_error: 3418565378048.0000 - val_loss: 5289593536512.0000 - val_mean_squared_error: 5289593536512.0000\n",
            "Epoch 66/100\n",
            "\u001b[1m28/28\u001b[0m \u001b[32m━━━━━━━━━━━━━━━━━━━━\u001b[0m\u001b[37m\u001b[0m \u001b[1m0s\u001b[0m 5ms/step - loss: 3166486921216.0000 - mean_squared_error: 3166486921216.0000 - val_loss: 5083634860032.0000 - val_mean_squared_error: 5083634860032.0000\n",
            "Epoch 67/100\n",
            "\u001b[1m28/28\u001b[0m \u001b[32m━━━━━━━━━━━━━━━━━━━━\u001b[0m\u001b[37m\u001b[0m \u001b[1m0s\u001b[0m 5ms/step - loss: 3415833575424.0000 - mean_squared_error: 3415833575424.0000 - val_loss: 5541842649088.0000 - val_mean_squared_error: 5541842649088.0000\n",
            "Epoch 68/100\n",
            "\u001b[1m28/28\u001b[0m \u001b[32m━━━━━━━━━━━━━━━━━━━━\u001b[0m\u001b[37m\u001b[0m \u001b[1m0s\u001b[0m 5ms/step - loss: 3948669304832.0000 - mean_squared_error: 3948669304832.0000 - val_loss: 5162281205760.0000 - val_mean_squared_error: 5162281205760.0000\n",
            "Epoch 69/100\n",
            "\u001b[1m28/28\u001b[0m \u001b[32m━━━━━━━━━━━━━━━━━━━━\u001b[0m\u001b[37m\u001b[0m \u001b[1m0s\u001b[0m 5ms/step - loss: 3158745808896.0000 - mean_squared_error: 3158745808896.0000 - val_loss: 5256083144704.0000 - val_mean_squared_error: 5256083144704.0000\n",
            "Epoch 70/100\n",
            "\u001b[1m28/28\u001b[0m \u001b[32m━━━━━━━━━━━━━━━━━━━━\u001b[0m\u001b[37m\u001b[0m \u001b[1m0s\u001b[0m 5ms/step - loss: 3271953481728.0000 - mean_squared_error: 3271953481728.0000 - val_loss: 5210774175744.0000 - val_mean_squared_error: 5210774175744.0000\n",
            "Epoch 71/100\n",
            "\u001b[1m28/28\u001b[0m \u001b[32m━━━━━━━━━━━━━━━━━━━━\u001b[0m\u001b[37m\u001b[0m \u001b[1m0s\u001b[0m 6ms/step - loss: 3384655216640.0000 - mean_squared_error: 3384655216640.0000 - val_loss: 5078966075392.0000 - val_mean_squared_error: 5078966075392.0000\n",
            "Epoch 72/100\n",
            "\u001b[1m28/28\u001b[0m \u001b[32m━━━━━━━━━━━━━━━━━━━━\u001b[0m\u001b[37m\u001b[0m \u001b[1m0s\u001b[0m 5ms/step - loss: 2998386556928.0000 - mean_squared_error: 2998386556928.0000 - val_loss: 5247266193408.0000 - val_mean_squared_error: 5247266193408.0000\n",
            "Epoch 73/100\n",
            "\u001b[1m28/28\u001b[0m \u001b[32m━━━━━━━━━━━━━━━━━━━━\u001b[0m\u001b[37m\u001b[0m \u001b[1m0s\u001b[0m 5ms/step - loss: 3468321619968.0000 - mean_squared_error: 3468321619968.0000 - val_loss: 5136773021696.0000 - val_mean_squared_error: 5136773021696.0000\n",
            "Epoch 74/100\n",
            "\u001b[1m28/28\u001b[0m \u001b[32m━━━━━━━━━━━━━━━━━━━━\u001b[0m\u001b[37m\u001b[0m \u001b[1m0s\u001b[0m 6ms/step - loss: 3070723620864.0000 - mean_squared_error: 3070723620864.0000 - val_loss: 5265220960256.0000 - val_mean_squared_error: 5265220960256.0000\n",
            "Epoch 75/100\n",
            "\u001b[1m28/28\u001b[0m \u001b[32m━━━━━━━━━━━━━━━━━━━━\u001b[0m\u001b[37m\u001b[0m \u001b[1m0s\u001b[0m 5ms/step - loss: 2784635125760.0000 - mean_squared_error: 2784635125760.0000 - val_loss: 5387785863168.0000 - val_mean_squared_error: 5387785863168.0000\n",
            "Epoch 76/100\n",
            "\u001b[1m28/28\u001b[0m \u001b[32m━━━━━━━━━━━━━━━━━━━━\u001b[0m\u001b[37m\u001b[0m \u001b[1m0s\u001b[0m 5ms/step - loss: 3418957807616.0000 - mean_squared_error: 3418957807616.0000 - val_loss: 5055565004800.0000 - val_mean_squared_error: 5055565004800.0000\n",
            "Epoch 77/100\n",
            "\u001b[1m28/28\u001b[0m \u001b[32m━━━━━━━━━━━━━━━━━━━━\u001b[0m\u001b[37m\u001b[0m \u001b[1m0s\u001b[0m 5ms/step - loss: 3842908356608.0000 - mean_squared_error: 3842908356608.0000 - val_loss: 5192493301760.0000 - val_mean_squared_error: 5192493301760.0000\n",
            "Epoch 78/100\n",
            "\u001b[1m28/28\u001b[0m \u001b[32m━━━━━━━━━━━━━━━━━━━━\u001b[0m\u001b[37m\u001b[0m \u001b[1m0s\u001b[0m 5ms/step - loss: 2914245148672.0000 - mean_squared_error: 2914245148672.0000 - val_loss: 5543068958720.0000 - val_mean_squared_error: 5543068958720.0000\n",
            "Epoch 79/100\n",
            "\u001b[1m28/28\u001b[0m \u001b[32m━━━━━━━━━━━━━━━━━━━━\u001b[0m\u001b[37m\u001b[0m \u001b[1m0s\u001b[0m 6ms/step - loss: 3619844259840.0000 - mean_squared_error: 3619844259840.0000 - val_loss: 5170748981248.0000 - val_mean_squared_error: 5170748981248.0000\n",
            "Epoch 80/100\n",
            "\u001b[1m28/28\u001b[0m \u001b[32m━━━━━━━━━━━━━━━━━━━━\u001b[0m\u001b[37m\u001b[0m \u001b[1m0s\u001b[0m 5ms/step - loss: 3023332179968.0000 - mean_squared_error: 3023332179968.0000 - val_loss: 5178341720064.0000 - val_mean_squared_error: 5178341720064.0000\n",
            "Epoch 81/100\n",
            "\u001b[1m28/28\u001b[0m \u001b[32m━━━━━━━━━━━━━━━━━━━━\u001b[0m\u001b[37m\u001b[0m \u001b[1m0s\u001b[0m 8ms/step - loss: 3553325744128.0000 - mean_squared_error: 3553325744128.0000 - val_loss: 5331926646784.0000 - val_mean_squared_error: 5331926646784.0000\n",
            "Epoch 82/100\n",
            "\u001b[1m28/28\u001b[0m \u001b[32m━━━━━━━━━━━━━━━━━━━━\u001b[0m\u001b[37m\u001b[0m \u001b[1m0s\u001b[0m 8ms/step - loss: 3781466521600.0000 - mean_squared_error: 3781466521600.0000 - val_loss: 5054702551040.0000 - val_mean_squared_error: 5054702551040.0000\n",
            "Epoch 83/100\n",
            "\u001b[1m28/28\u001b[0m \u001b[32m━━━━━━━━━━━━━━━━━━━━\u001b[0m\u001b[37m\u001b[0m \u001b[1m0s\u001b[0m 7ms/step - loss: 3088107700224.0000 - mean_squared_error: 3088107700224.0000 - val_loss: 5594550894592.0000 - val_mean_squared_error: 5594550894592.0000\n",
            "Epoch 84/100\n",
            "\u001b[1m28/28\u001b[0m \u001b[32m━━━━━━━━━━━━━━━━━━━━\u001b[0m\u001b[37m\u001b[0m \u001b[1m0s\u001b[0m 7ms/step - loss: 3189477998592.0000 - mean_squared_error: 3189477998592.0000 - val_loss: 5354304831488.0000 - val_mean_squared_error: 5354304831488.0000\n",
            "Epoch 85/100\n",
            "\u001b[1m28/28\u001b[0m \u001b[32m━━━━━━━━━━━━━━━━━━━━\u001b[0m\u001b[37m\u001b[0m \u001b[1m0s\u001b[0m 7ms/step - loss: 3433758982144.0000 - mean_squared_error: 3433758982144.0000 - val_loss: 5101717028864.0000 - val_mean_squared_error: 5101717028864.0000\n",
            "Epoch 86/100\n",
            "\u001b[1m28/28\u001b[0m \u001b[32m━━━━━━━━━━━━━━━━━━━━\u001b[0m\u001b[37m\u001b[0m \u001b[1m0s\u001b[0m 8ms/step - loss: 3317875867648.0000 - mean_squared_error: 3317875867648.0000 - val_loss: 5191725219840.0000 - val_mean_squared_error: 5191725219840.0000\n",
            "Epoch 87/100\n",
            "\u001b[1m28/28\u001b[0m \u001b[32m━━━━━━━━━━━━━━━━━━━━\u001b[0m\u001b[37m\u001b[0m \u001b[1m0s\u001b[0m 8ms/step - loss: 3180484362240.0000 - mean_squared_error: 3180484362240.0000 - val_loss: 5170707038208.0000 - val_mean_squared_error: 5170707038208.0000\n",
            "Epoch 88/100\n",
            "\u001b[1m28/28\u001b[0m \u001b[32m━━━━━━━━━━━━━━━━━━━━\u001b[0m\u001b[37m\u001b[0m \u001b[1m0s\u001b[0m 7ms/step - loss: 2769724637184.0000 - mean_squared_error: 2769724637184.0000 - val_loss: 5057913290752.0000 - val_mean_squared_error: 5057913290752.0000\n",
            "Epoch 89/100\n",
            "\u001b[1m28/28\u001b[0m \u001b[32m━━━━━━━━━━━━━━━━━━━━\u001b[0m\u001b[37m\u001b[0m \u001b[1m0s\u001b[0m 6ms/step - loss: 3036712271872.0000 - mean_squared_error: 3036712271872.0000 - val_loss: 5206072360960.0000 - val_mean_squared_error: 5206072360960.0000\n",
            "Epoch 90/100\n",
            "\u001b[1m28/28\u001b[0m \u001b[32m━━━━━━━━━━━━━━━━━━━━\u001b[0m\u001b[37m\u001b[0m \u001b[1m0s\u001b[0m 5ms/step - loss: 3507636142080.0000 - mean_squared_error: 3507636142080.0000 - val_loss: 5742036779008.0000 - val_mean_squared_error: 5742036779008.0000\n",
            "Epoch 91/100\n",
            "\u001b[1m28/28\u001b[0m \u001b[32m━━━━━━━━━━━━━━━━━━━━\u001b[0m\u001b[37m\u001b[0m \u001b[1m0s\u001b[0m 5ms/step - loss: 2862601732096.0000 - mean_squared_error: 2862601732096.0000 - val_loss: 5055545081856.0000 - val_mean_squared_error: 5055545081856.0000\n",
            "Epoch 92/100\n",
            "\u001b[1m28/28\u001b[0m \u001b[32m━━━━━━━━━━━━━━━━━━━━\u001b[0m\u001b[37m\u001b[0m \u001b[1m0s\u001b[0m 4ms/step - loss: 3143331479552.0000 - mean_squared_error: 3143331479552.0000 - val_loss: 5404100657152.0000 - val_mean_squared_error: 5404100657152.0000\n",
            "Epoch 93/100\n",
            "\u001b[1m28/28\u001b[0m \u001b[32m━━━━━━━━━━━━━━━━━━━━\u001b[0m\u001b[37m\u001b[0m \u001b[1m0s\u001b[0m 4ms/step - loss: 3161319014400.0000 - mean_squared_error: 3161319014400.0000 - val_loss: 5221921062912.0000 - val_mean_squared_error: 5221921062912.0000\n",
            "Epoch 94/100\n",
            "\u001b[1m28/28\u001b[0m \u001b[32m━━━━━━━━━━━━━━━━━━━━\u001b[0m\u001b[37m\u001b[0m \u001b[1m0s\u001b[0m 4ms/step - loss: 3651450437632.0000 - mean_squared_error: 3651450437632.0000 - val_loss: 5330304499712.0000 - val_mean_squared_error: 5330304499712.0000\n",
            "Epoch 95/100\n",
            "\u001b[1m28/28\u001b[0m \u001b[32m━━━━━━━━━━━━━━━━━━━━\u001b[0m\u001b[37m\u001b[0m \u001b[1m0s\u001b[0m 5ms/step - loss: 2897471864832.0000 - mean_squared_error: 2897471864832.0000 - val_loss: 5386713169920.0000 - val_mean_squared_error: 5386713169920.0000\n",
            "Epoch 96/100\n",
            "\u001b[1m28/28\u001b[0m \u001b[32m━━━━━━━━━━━━━━━━━━━━\u001b[0m\u001b[37m\u001b[0m \u001b[1m0s\u001b[0m 5ms/step - loss: 3101105061888.0000 - mean_squared_error: 3101105061888.0000 - val_loss: 5463667113984.0000 - val_mean_squared_error: 5463667113984.0000\n",
            "Epoch 97/100\n",
            "\u001b[1m28/28\u001b[0m \u001b[32m━━━━━━━━━━━━━━━━━━━━\u001b[0m\u001b[37m\u001b[0m \u001b[1m0s\u001b[0m 5ms/step - loss: 3325838229504.0000 - mean_squared_error: 3325838229504.0000 - val_loss: 5230820851712.0000 - val_mean_squared_error: 5230820851712.0000\n",
            "Epoch 98/100\n",
            "\u001b[1m28/28\u001b[0m \u001b[32m━━━━━━━━━━━━━━━━━━━━\u001b[0m\u001b[37m\u001b[0m \u001b[1m0s\u001b[0m 6ms/step - loss: 3455386648576.0000 - mean_squared_error: 3455386648576.0000 - val_loss: 5315905454080.0000 - val_mean_squared_error: 5315905454080.0000\n",
            "Epoch 99/100\n",
            "\u001b[1m28/28\u001b[0m \u001b[32m━━━━━━━━━━━━━━━━━━━━\u001b[0m\u001b[37m\u001b[0m \u001b[1m0s\u001b[0m 5ms/step - loss: 2929584242688.0000 - mean_squared_error: 2929584242688.0000 - val_loss: 5211682242560.0000 - val_mean_squared_error: 5211682242560.0000\n",
            "Epoch 100/100\n",
            "\u001b[1m28/28\u001b[0m \u001b[32m━━━━━━━━━━━━━━━━━━━━\u001b[0m\u001b[37m\u001b[0m \u001b[1m0s\u001b[0m 4ms/step - loss: 3133540139008.0000 - mean_squared_error: 3133540139008.0000 - val_loss: 5060906975232.0000 - val_mean_squared_error: 5060906975232.0000\n"
          ]
        }
      ]
    }
  ]
}